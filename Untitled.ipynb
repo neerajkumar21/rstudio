{
 "cells": [
  {
   "cell_type": "code",
   "execution_count": 1,
   "metadata": {},
   "outputs": [],
   "source": [
    "# Load raw data\n",
    "train <- read.csv(\"train.csv\", header = TRUE)\n",
    "test <- read.csv(\"test.csv\", header = TRUE)"
   ]
  },
  {
   "cell_type": "code",
   "execution_count": 2,
   "metadata": {},
   "outputs": [],
   "source": [
    "# Add a \"Survived\" variable to the test set to allow for combining data sets\n",
    "test.Survived <- data.frame(Survived = rep(\"None\", nrow(test)), test[,])"
   ]
  },
  {
   "cell_type": "code",
   "execution_count": 3,
   "metadata": {},
   "outputs": [],
   "source": [
    "# Combine data sets test.survived, and train\n",
    "data.combined <- rbind(train, test.Survived)"
   ]
  },
  {
   "cell_type": "code",
   "execution_count": 4,
   "metadata": {},
   "outputs": [
    {
     "name": "stdout",
     "output_type": "stream",
     "text": [
      "'data.frame':\t1309 obs. of  12 variables:\n",
      " $ PassengerId: int  1 2 3 4 5 6 7 8 9 10 ...\n",
      " $ Survived   : chr  \"0\" \"1\" \"1\" \"1\" ...\n",
      " $ Pclass     : int  3 1 3 1 3 3 1 3 3 2 ...\n",
      " $ Name       : Factor w/ 1307 levels \"Abbing, Mr. Anthony\",..: 109 191 358 277 16 559 520 629 417 581 ...\n",
      " $ Sex        : Factor w/ 2 levels \"female\",\"male\": 2 1 1 1 2 2 2 2 1 1 ...\n",
      " $ Age        : num  22 38 26 35 35 NA 54 2 27 14 ...\n",
      " $ SibSp      : int  1 1 0 1 0 0 0 3 0 1 ...\n",
      " $ Parch      : int  0 0 0 0 0 0 0 1 2 0 ...\n",
      " $ Ticket     : Factor w/ 929 levels \"110152\",\"110413\",..: 524 597 670 50 473 276 86 396 345 133 ...\n",
      " $ Fare       : num  7.25 71.28 7.92 53.1 8.05 ...\n",
      " $ Cabin      : Factor w/ 187 levels \"\",\"A10\",\"A14\",..: 1 83 1 57 1 1 131 1 1 1 ...\n",
      " $ Embarked   : Factor w/ 4 levels \"\",\"C\",\"Q\",\"S\": 4 2 4 4 4 3 4 4 4 2 ...\n"
     ]
    }
   ],
   "source": [
    "# A bit about R data types (e.g., factors)\n",
    "str(data.combined)"
   ]
  },
  {
   "cell_type": "code",
   "execution_count": 5,
   "metadata": {},
   "outputs": [],
   "source": [
    "data.combined$Survived <- as.factor(data.combined$Survived)\n",
    "data.combined$Pclass <- as.factor(data.combined$Pclass)"
   ]
  },
  {
   "cell_type": "code",
   "execution_count": 6,
   "metadata": {},
   "outputs": [
    {
     "data": {
      "text/plain": [
       "\n",
       "   0    1 None \n",
       " 549  342  418 "
      ]
     },
     "metadata": {},
     "output_type": "display_data"
    }
   ],
   "source": [
    "# Take a look at gross survival rates\n",
    "table(data.combined$Survived)"
   ]
  },
  {
   "cell_type": "code",
   "execution_count": 7,
   "metadata": {},
   "outputs": [
    {
     "data": {
      "text/plain": [
       "\n",
       "  1   2   3 \n",
       "323 277 709 "
      ]
     },
     "metadata": {},
     "output_type": "display_data"
    }
   ],
   "source": [
    "# Distribution across classes\n",
    "table(data.combined$Pclass)"
   ]
  },
  {
   "cell_type": "code",
   "execution_count": 8,
   "metadata": {},
   "outputs": [
    {
     "data": {
      "image/png": "[encoded data removed]",
      "text/plain": [
       "plot without title"
      ]
     },
     "metadata": {
      "image/png": {
       "height": 420,
       "width": 420
      },
      "text/plain": {
       "height": 420,
       "width": 420
      }
     },
     "output_type": "display_data"
    }
   ],
   "source": [
    "# Load up ggplot2 package to use for visualizations\n",
    "library(ggplot2)\n",
    "# Hypothesis - Rich folks Survived at a higer rate\n",
    "train$Pclass <- as.factor(train$Pclass)\n",
    "ggplot(train, aes(x = Pclass, fill = factor(Survived))) +\n",
    "  geom_bar() +\n",
    "  xlab(\"Pclass\") +\n",
    "  ylab(\"Total Count\") +\n",
    "  labs(fill = \"Survived\")"
   ]
  },
  {
   "cell_type": "code",
   "execution_count": 9,
   "metadata": {},
   "outputs": [
    {
     "data": {
      "text/html": [
       "<style>\n",
       ".list-inline {list-style: none; margin:0; padding: 0}\n",
       ".list-inline>li {display: inline-block}\n",
       ".list-inline>li:not(:last-child)::after {content: \"\\00b7\"; padding: 0 .5ex}\n",
       "</style>\n",
       "<ol class=list-inline><li>'Braund, Mr. Owen Harris'</li><li>'Cumings, Mrs. John Bradley (Florence Briggs Thayer)'</li><li>'Heikkinen, Miss. Laina'</li><li>'Futrelle, Mrs. Jacques Heath (Lily May Peel)'</li><li>'Allen, Mr. William Henry'</li><li>'Moran, Mr. James'</li></ol>\n"
      ],
      "text/latex": [
       "\\begin{enumerate*}\n",
       "\\item 'Braund, Mr. Owen Harris'\n",
       "\\item 'Cumings, Mrs. John Bradley (Florence Briggs Thayer)'\n",
       "\\item 'Heikkinen, Miss. Laina'\n",
       "\\item 'Futrelle, Mrs. Jacques Heath (Lily May Peel)'\n",
       "\\item 'Allen, Mr. William Henry'\n",
       "\\item 'Moran, Mr. James'\n",
       "\\end{enumerate*}\n"
      ],
      "text/markdown": [
       "1. 'Braund, Mr. Owen Harris'\n",
       "2. 'Cumings, Mrs. John Bradley (Florence Briggs Thayer)'\n",
       "3. 'Heikkinen, Miss. Laina'\n",
       "4. 'Futrelle, Mrs. Jacques Heath (Lily May Peel)'\n",
       "5. 'Allen, Mr. William Henry'\n",
       "6. 'Moran, Mr. James'\n",
       "\n",
       "\n"
      ],
      "text/plain": [
       "[1] \"Braund, Mr. Owen Harris\"                            \n",
       "[2] \"Cumings, Mrs. John Bradley (Florence Briggs Thayer)\"\n",
       "[3] \"Heikkinen, Miss. Laina\"                             \n",
       "[4] \"Futrelle, Mrs. Jacques Heath (Lily May Peel)\"       \n",
       "[5] \"Allen, Mr. William Henry\"                           \n",
       "[6] \"Moran, Mr. James\"                                   "
      ]
     },
     "metadata": {},
     "output_type": "display_data"
    }
   ],
   "source": [
    "# Examine the first few Names in the training data set\n",
    "head(as.character(train$Name))"
   ]
  },
  {
   "cell_type": "code",
   "execution_count": 10,
   "metadata": {},
   "outputs": [],
   "source": [
    "# Two duplicate Names, take a closer look\n",
    "# First, get the duplicate Names and store them as a vector\n",
    "dup.names <- as.character(data.combined[which(duplicated(as.character(data.combined$Name))), \"Name\"])"
   ]
  },
  {
   "cell_type": "code",
   "execution_count": 11,
   "metadata": {},
   "outputs": [
    {
     "data": {
      "text/html": [
       "<table>\n",
       "<caption>A data.frame: 4 × 12</caption>\n",
       "<thead>\n",
       "\t<tr><th></th><th scope=col>PassengerId</th><th scope=col>Survived</th><th scope=col>Pclass</th><th scope=col>Name</th><th scope=col>Sex</th><th scope=col>Age</th><th scope=col>SibSp</th><th scope=col>Parch</th><th scope=col>Ticket</th><th scope=col>Fare</th><th scope=col>Cabin</th><th scope=col>Embarked</th></tr>\n",
       "\t<tr><th></th><th scope=col>&lt;int&gt;</th><th scope=col>&lt;fct&gt;</th><th scope=col>&lt;fct&gt;</th><th scope=col>&lt;fct&gt;</th><th scope=col>&lt;fct&gt;</th><th scope=col>&lt;dbl&gt;</th><th scope=col>&lt;int&gt;</th><th scope=col>&lt;int&gt;</th><th scope=col>&lt;fct&gt;</th><th scope=col>&lt;dbl&gt;</th><th scope=col>&lt;fct&gt;</th><th scope=col>&lt;fct&gt;</th></tr>\n",
       "</thead>\n",
       "<tbody>\n",
       "\t<tr><th scope=row>290</th><td>290</td><td>1   </td><td>3</td><td>Connolly, Miss. Kate</td><td>female</td><td>22.0</td><td>0</td><td>0</td><td>370373</td><td>7.7500</td><td></td><td>Q</td></tr>\n",
       "\t<tr><th scope=row>697</th><td>697</td><td>0   </td><td>3</td><td>Kelly, Mr. James    </td><td>male  </td><td>44.0</td><td>0</td><td>0</td><td>363592</td><td>8.0500</td><td></td><td>S</td></tr>\n",
       "\t<tr><th scope=row>892</th><td>892</td><td>None</td><td>3</td><td>Kelly, Mr. James    </td><td>male  </td><td>34.5</td><td>0</td><td>0</td><td>330911</td><td>7.8292</td><td></td><td>Q</td></tr>\n",
       "\t<tr><th scope=row>898</th><td>898</td><td>None</td><td>3</td><td>Connolly, Miss. Kate</td><td>female</td><td>30.0</td><td>0</td><td>0</td><td>330972</td><td>7.6292</td><td></td><td>Q</td></tr>\n",
       "</tbody>\n",
       "</table>\n"
      ],
      "text/latex": [
       "A data.frame: 4 × 12\n",
       "\\begin{tabular}{r|llllllllllll}\n",
       "  & PassengerId & Survived & Pclass & Name & Sex & Age & SibSp & Parch & Ticket & Fare & Cabin & Embarked\\\\\n",
       "  & <int> & <fct> & <fct> & <fct> & <fct> & <dbl> & <int> & <int> & <fct> & <dbl> & <fct> & <fct>\\\\\n",
       "\\hline\n",
       "\t290 & 290 & 1    & 3 & Connolly, Miss. Kate & female & 22.0 & 0 & 0 & 370373 & 7.7500 &  & Q\\\\\n",
       "\t697 & 697 & 0    & 3 & Kelly, Mr. James     & male   & 44.0 & 0 & 0 & 363592 & 8.0500 &  & S\\\\\n",
       "\t892 & 892 & None & 3 & Kelly, Mr. James     & male   & 34.5 & 0 & 0 & 330911 & 7.8292 &  & Q\\\\\n",
       "\t898 & 898 & None & 3 & Connolly, Miss. Kate & female & 30.0 & 0 & 0 & 330972 & 7.6292 &  & Q\\\\\n",
       "\\end{tabular}\n"
      ],
      "text/markdown": [
       "\n",
       "A data.frame: 4 × 12\n",
       "\n",
       "| <!--/--> | PassengerId &lt;int&gt; | Survived &lt;fct&gt; | Pclass &lt;fct&gt; | Name &lt;fct&gt; | Sex &lt;fct&gt; | Age &lt;dbl&gt; | SibSp &lt;int&gt; | Parch &lt;int&gt; | Ticket &lt;fct&gt; | Fare &lt;dbl&gt; | Cabin &lt;fct&gt; | Embarked &lt;fct&gt; |\n",
       "|---|---|---|---|---|---|---|---|---|---|---|---|---|\n",
       "| 290 | 290 | 1    | 3 | Connolly, Miss. Kate | female | 22.0 | 0 | 0 | 370373 | 7.7500 | <!----> | Q |\n",
       "| 697 | 697 | 0    | 3 | Kelly, Mr. James     | male   | 44.0 | 0 | 0 | 363592 | 8.0500 | <!----> | S |\n",
       "| 892 | 892 | None | 3 | Kelly, Mr. James     | male   | 34.5 | 0 | 0 | 330911 | 7.8292 | <!----> | Q |\n",
       "| 898 | 898 | None | 3 | Connolly, Miss. Kate | female | 30.0 | 0 | 0 | 330972 | 7.6292 | <!----> | Q |\n",
       "\n"
      ],
      "text/plain": [
       "    PassengerId Survived Pclass Name                 Sex    Age  SibSp Parch\n",
       "290 290         1        3      Connolly, Miss. Kate female 22.0 0     0    \n",
       "697 697         0        3      Kelly, Mr. James     male   44.0 0     0    \n",
       "892 892         None     3      Kelly, Mr. James     male   34.5 0     0    \n",
       "898 898         None     3      Connolly, Miss. Kate female 30.0 0     0    \n",
       "    Ticket Fare   Cabin Embarked\n",
       "290 370373 7.7500       Q       \n",
       "697 363592 8.0500       S       \n",
       "892 330911 7.8292       Q       \n",
       "898 330972 7.6292       Q       "
      ]
     },
     "metadata": {},
     "output_type": "display_data"
    }
   ],
   "source": [
    "# Next, take a look at the records in the combined data set\n",
    "data.combined[which(data.combined$Name %in% dup.names),]"
   ]
  },
  {
   "cell_type": "code",
   "execution_count": 12,
   "metadata": {},
   "outputs": [],
   "source": [
    "# What is up with the 'Miss.' and 'Mr.' thing?\n",
    "library(stringr)"
   ]
  },
  {
   "cell_type": "code",
   "execution_count": 13,
   "metadata": {},
   "outputs": [
    {
     "data": {
      "text/html": [
       "<table>\n",
       "<caption>A data.frame: 5 × 12</caption>\n",
       "<thead>\n",
       "\t<tr><th></th><th scope=col>PassengerId</th><th scope=col>Survived</th><th scope=col>Pclass</th><th scope=col>Name</th><th scope=col>Sex</th><th scope=col>Age</th><th scope=col>SibSp</th><th scope=col>Parch</th><th scope=col>Ticket</th><th scope=col>Fare</th><th scope=col>Cabin</th><th scope=col>Embarked</th></tr>\n",
       "\t<tr><th></th><th scope=col>&lt;int&gt;</th><th scope=col>&lt;fct&gt;</th><th scope=col>&lt;fct&gt;</th><th scope=col>&lt;fct&gt;</th><th scope=col>&lt;fct&gt;</th><th scope=col>&lt;dbl&gt;</th><th scope=col>&lt;int&gt;</th><th scope=col>&lt;int&gt;</th><th scope=col>&lt;fct&gt;</th><th scope=col>&lt;dbl&gt;</th><th scope=col>&lt;fct&gt;</th><th scope=col>&lt;fct&gt;</th></tr>\n",
       "</thead>\n",
       "<tbody>\n",
       "\t<tr><th scope=row>3</th><td> 3</td><td>1</td><td>3</td><td>Heikkinen, Miss. Laina              </td><td>female</td><td>26</td><td>0</td><td>0</td><td>STON/O2. 3101282</td><td> 7.9250</td><td>    </td><td>S</td></tr>\n",
       "\t<tr><th scope=row>11</th><td>11</td><td>1</td><td>3</td><td>Sandstrom, Miss. Marguerite Rut     </td><td>female</td><td> 4</td><td>1</td><td>1</td><td>PP 9549         </td><td>16.7000</td><td>G6  </td><td>S</td></tr>\n",
       "\t<tr><th scope=row>12</th><td>12</td><td>1</td><td>1</td><td>Bonnell, Miss. Elizabeth            </td><td>female</td><td>58</td><td>0</td><td>0</td><td>113783          </td><td>26.5500</td><td>C103</td><td>S</td></tr>\n",
       "\t<tr><th scope=row>15</th><td>15</td><td>0</td><td>3</td><td>Vestrom, Miss. Hulda Amanda Adolfina</td><td>female</td><td>14</td><td>0</td><td>0</td><td>350406          </td><td> 7.8542</td><td>    </td><td>S</td></tr>\n",
       "\t<tr><th scope=row>23</th><td>23</td><td>1</td><td>3</td><td>McGowan, Miss. Anna \"Annie\"         </td><td>female</td><td>15</td><td>0</td><td>0</td><td>330923          </td><td> 8.0292</td><td>    </td><td>Q</td></tr>\n",
       "</tbody>\n",
       "</table>\n"
      ],
      "text/latex": [
       "A data.frame: 5 × 12\n",
       "\\begin{tabular}{r|llllllllllll}\n",
       "  & PassengerId & Survived & Pclass & Name & Sex & Age & SibSp & Parch & Ticket & Fare & Cabin & Embarked\\\\\n",
       "  & <int> & <fct> & <fct> & <fct> & <fct> & <dbl> & <int> & <int> & <fct> & <dbl> & <fct> & <fct>\\\\\n",
       "\\hline\n",
       "\t3 &  3 & 1 & 3 & Heikkinen, Miss. Laina               & female & 26 & 0 & 0 & STON/O2. 3101282 &  7.9250 &      & S\\\\\n",
       "\t11 & 11 & 1 & 3 & Sandstrom, Miss. Marguerite Rut      & female &  4 & 1 & 1 & PP 9549          & 16.7000 & G6   & S\\\\\n",
       "\t12 & 12 & 1 & 1 & Bonnell, Miss. Elizabeth             & female & 58 & 0 & 0 & 113783           & 26.5500 & C103 & S\\\\\n",
       "\t15 & 15 & 0 & 3 & Vestrom, Miss. Hulda Amanda Adolfina & female & 14 & 0 & 0 & 350406           &  7.8542 &      & S\\\\\n",
       "\t23 & 23 & 1 & 3 & McGowan, Miss. Anna \"Annie\"          & female & 15 & 0 & 0 & 330923           &  8.0292 &      & Q\\\\\n",
       "\\end{tabular}\n"
      ],
      "text/markdown": [
       "\n",
       "A data.frame: 5 × 12\n",
       "\n",
       "| <!--/--> | PassengerId &lt;int&gt; | Survived &lt;fct&gt; | Pclass &lt;fct&gt; | Name &lt;fct&gt; | Sex &lt;fct&gt; | Age &lt;dbl&gt; | SibSp &lt;int&gt; | Parch &lt;int&gt; | Ticket &lt;fct&gt; | Fare &lt;dbl&gt; | Cabin &lt;fct&gt; | Embarked &lt;fct&gt; |\n",
       "|---|---|---|---|---|---|---|---|---|---|---|---|---|\n",
       "| 3 |  3 | 1 | 3 | Heikkinen, Miss. Laina               | female | 26 | 0 | 0 | STON/O2. 3101282 |  7.9250 | <!----> | S |\n",
       "| 11 | 11 | 1 | 3 | Sandstrom, Miss. Marguerite Rut      | female |  4 | 1 | 1 | PP 9549          | 16.7000 | G6   | S |\n",
       "| 12 | 12 | 1 | 1 | Bonnell, Miss. Elizabeth             | female | 58 | 0 | 0 | 113783           | 26.5500 | C103 | S |\n",
       "| 15 | 15 | 0 | 3 | Vestrom, Miss. Hulda Amanda Adolfina | female | 14 | 0 | 0 | 350406           |  7.8542 | <!----> | S |\n",
       "| 23 | 23 | 1 | 3 | McGowan, Miss. Anna \"Annie\"          | female | 15 | 0 | 0 | 330923           |  8.0292 | <!----> | Q |\n",
       "\n"
      ],
      "text/plain": [
       "   PassengerId Survived Pclass Name                                 Sex    Age\n",
       "3   3          1        3      Heikkinen, Miss. Laina               female 26 \n",
       "11 11          1        3      Sandstrom, Miss. Marguerite Rut      female  4 \n",
       "12 12          1        1      Bonnell, Miss. Elizabeth             female 58 \n",
       "15 15          0        3      Vestrom, Miss. Hulda Amanda Adolfina female 14 \n",
       "23 23          1        3      McGowan, Miss. Anna \"Annie\"          female 15 \n",
       "   SibSp Parch Ticket           Fare    Cabin Embarked\n",
       "3  0     0     STON/O2. 3101282  7.9250       S       \n",
       "11 1     1     PP 9549          16.7000 G6    S       \n",
       "12 0     0     113783           26.5500 C103  S       \n",
       "15 0     0     350406            7.8542       S       \n",
       "23 0     0     330923            8.0292       Q       "
      ]
     },
     "metadata": {},
     "output_type": "display_data"
    }
   ],
   "source": [
    "# Any correlation with other variables (e.g., sibsp)?\n",
    "misses <- data.combined[which(str_detect(data.combined$Name, \"Miss.\")),]\n",
    "misses[1:5,]"
   ]
  },
  {
   "cell_type": "code",
   "execution_count": 14,
   "metadata": {},
   "outputs": [
    {
     "data": {
      "text/html": [
       "<table>\n",
       "<caption>A data.frame: 5 × 12</caption>\n",
       "<thead>\n",
       "\t<tr><th></th><th scope=col>PassengerId</th><th scope=col>Survived</th><th scope=col>Pclass</th><th scope=col>Name</th><th scope=col>Sex</th><th scope=col>Age</th><th scope=col>SibSp</th><th scope=col>Parch</th><th scope=col>Ticket</th><th scope=col>Fare</th><th scope=col>Cabin</th><th scope=col>Embarked</th></tr>\n",
       "\t<tr><th></th><th scope=col>&lt;int&gt;</th><th scope=col>&lt;fct&gt;</th><th scope=col>&lt;fct&gt;</th><th scope=col>&lt;fct&gt;</th><th scope=col>&lt;fct&gt;</th><th scope=col>&lt;dbl&gt;</th><th scope=col>&lt;int&gt;</th><th scope=col>&lt;int&gt;</th><th scope=col>&lt;fct&gt;</th><th scope=col>&lt;dbl&gt;</th><th scope=col>&lt;fct&gt;</th><th scope=col>&lt;fct&gt;</th></tr>\n",
       "</thead>\n",
       "<tbody>\n",
       "\t<tr><th scope=row>2</th><td> 2</td><td>1</td><td>1</td><td>Cumings, Mrs. John Bradley (Florence Briggs Thayer)</td><td>female</td><td>38</td><td>1</td><td>0</td><td>PC 17599</td><td>71.2833</td><td>C85 </td><td>C</td></tr>\n",
       "\t<tr><th scope=row>4</th><td> 4</td><td>1</td><td>1</td><td>Futrelle, Mrs. Jacques Heath (Lily May Peel)       </td><td>female</td><td>35</td><td>1</td><td>0</td><td>113803  </td><td>53.1000</td><td>C123</td><td>S</td></tr>\n",
       "\t<tr><th scope=row>9</th><td> 9</td><td>1</td><td>3</td><td>Johnson, Mrs. Oscar W (Elisabeth Vilhelmina Berg)  </td><td>female</td><td>27</td><td>0</td><td>2</td><td>347742  </td><td>11.1333</td><td>    </td><td>S</td></tr>\n",
       "\t<tr><th scope=row>10</th><td>10</td><td>1</td><td>2</td><td>Nasser, Mrs. Nicholas (Adele Achem)                </td><td>female</td><td>14</td><td>1</td><td>0</td><td>237736  </td><td>30.0708</td><td>    </td><td>C</td></tr>\n",
       "\t<tr><th scope=row>16</th><td>16</td><td>1</td><td>2</td><td>Hewlett, Mrs. (Mary D Kingcome)                    </td><td>female</td><td>55</td><td>0</td><td>0</td><td>248706  </td><td>16.0000</td><td>    </td><td>S</td></tr>\n",
       "</tbody>\n",
       "</table>\n"
      ],
      "text/latex": [
       "A data.frame: 5 × 12\n",
       "\\begin{tabular}{r|llllllllllll}\n",
       "  & PassengerId & Survived & Pclass & Name & Sex & Age & SibSp & Parch & Ticket & Fare & Cabin & Embarked\\\\\n",
       "  & <int> & <fct> & <fct> & <fct> & <fct> & <dbl> & <int> & <int> & <fct> & <dbl> & <fct> & <fct>\\\\\n",
       "\\hline\n",
       "\t2 &  2 & 1 & 1 & Cumings, Mrs. John Bradley (Florence Briggs Thayer) & female & 38 & 1 & 0 & PC 17599 & 71.2833 & C85  & C\\\\\n",
       "\t4 &  4 & 1 & 1 & Futrelle, Mrs. Jacques Heath (Lily May Peel)        & female & 35 & 1 & 0 & 113803   & 53.1000 & C123 & S\\\\\n",
       "\t9 &  9 & 1 & 3 & Johnson, Mrs. Oscar W (Elisabeth Vilhelmina Berg)   & female & 27 & 0 & 2 & 347742   & 11.1333 &      & S\\\\\n",
       "\t10 & 10 & 1 & 2 & Nasser, Mrs. Nicholas (Adele Achem)                 & female & 14 & 1 & 0 & 237736   & 30.0708 &      & C\\\\\n",
       "\t16 & 16 & 1 & 2 & Hewlett, Mrs. (Mary D Kingcome)                     & female & 55 & 0 & 0 & 248706   & 16.0000 &      & S\\\\\n",
       "\\end{tabular}\n"
      ],
      "text/markdown": [
       "\n",
       "A data.frame: 5 × 12\n",
       "\n",
       "| <!--/--> | PassengerId &lt;int&gt; | Survived &lt;fct&gt; | Pclass &lt;fct&gt; | Name &lt;fct&gt; | Sex &lt;fct&gt; | Age &lt;dbl&gt; | SibSp &lt;int&gt; | Parch &lt;int&gt; | Ticket &lt;fct&gt; | Fare &lt;dbl&gt; | Cabin &lt;fct&gt; | Embarked &lt;fct&gt; |\n",
       "|---|---|---|---|---|---|---|---|---|---|---|---|---|\n",
       "| 2 |  2 | 1 | 1 | Cumings, Mrs. John Bradley (Florence Briggs Thayer) | female | 38 | 1 | 0 | PC 17599 | 71.2833 | C85  | C |\n",
       "| 4 |  4 | 1 | 1 | Futrelle, Mrs. Jacques Heath (Lily May Peel)        | female | 35 | 1 | 0 | 113803   | 53.1000 | C123 | S |\n",
       "| 9 |  9 | 1 | 3 | Johnson, Mrs. Oscar W (Elisabeth Vilhelmina Berg)   | female | 27 | 0 | 2 | 347742   | 11.1333 | <!----> | S |\n",
       "| 10 | 10 | 1 | 2 | Nasser, Mrs. Nicholas (Adele Achem)                 | female | 14 | 1 | 0 | 237736   | 30.0708 | <!----> | C |\n",
       "| 16 | 16 | 1 | 2 | Hewlett, Mrs. (Mary D Kingcome)                     | female | 55 | 0 | 0 | 248706   | 16.0000 | <!----> | S |\n",
       "\n"
      ],
      "text/plain": [
       "   PassengerId Survived Pclass\n",
       "2   2          1        1     \n",
       "4   4          1        1     \n",
       "9   9          1        3     \n",
       "10 10          1        2     \n",
       "16 16          1        2     \n",
       "   Name                                                Sex    Age SibSp Parch\n",
       "2  Cumings, Mrs. John Bradley (Florence Briggs Thayer) female 38  1     0    \n",
       "4  Futrelle, Mrs. Jacques Heath (Lily May Peel)        female 35  1     0    \n",
       "9  Johnson, Mrs. Oscar W (Elisabeth Vilhelmina Berg)   female 27  0     2    \n",
       "10 Nasser, Mrs. Nicholas (Adele Achem)                 female 14  1     0    \n",
       "16 Hewlett, Mrs. (Mary D Kingcome)                     female 55  0     0    \n",
       "   Ticket   Fare    Cabin Embarked\n",
       "2  PC 17599 71.2833 C85   C       \n",
       "4  113803   53.1000 C123  S       \n",
       "9  347742   11.1333       S       \n",
       "10 237736   30.0708       C       \n",
       "16 248706   16.0000       S       "
      ]
     },
     "metadata": {},
     "output_type": "display_data"
    }
   ],
   "source": [
    "# Hypothesis - Name titles correlate with age\n",
    "mrses <- data.combined[which(str_detect(data.combined$Name, \"Mrs.\")), ]\n",
    "mrses[1:5,]"
   ]
  },
  {
   "cell_type": "code",
   "execution_count": 15,
   "metadata": {},
   "outputs": [
    {
     "data": {
      "text/html": [
       "<table>\n",
       "<caption>A data.frame: 5 × 12</caption>\n",
       "<thead>\n",
       "\t<tr><th></th><th scope=col>PassengerId</th><th scope=col>Survived</th><th scope=col>Pclass</th><th scope=col>Name</th><th scope=col>Sex</th><th scope=col>Age</th><th scope=col>SibSp</th><th scope=col>Parch</th><th scope=col>Ticket</th><th scope=col>Fare</th><th scope=col>Cabin</th><th scope=col>Embarked</th></tr>\n",
       "\t<tr><th></th><th scope=col>&lt;int&gt;</th><th scope=col>&lt;fct&gt;</th><th scope=col>&lt;fct&gt;</th><th scope=col>&lt;fct&gt;</th><th scope=col>&lt;fct&gt;</th><th scope=col>&lt;dbl&gt;</th><th scope=col>&lt;int&gt;</th><th scope=col>&lt;int&gt;</th><th scope=col>&lt;fct&gt;</th><th scope=col>&lt;dbl&gt;</th><th scope=col>&lt;fct&gt;</th><th scope=col>&lt;fct&gt;</th></tr>\n",
       "</thead>\n",
       "<tbody>\n",
       "\t<tr><th scope=row>1</th><td>1</td><td>0</td><td>3</td><td>Braund, Mr. Owen Harris       </td><td>male</td><td>22</td><td>1</td><td>0</td><td>A/5 21171</td><td> 7.2500</td><td>   </td><td>S</td></tr>\n",
       "\t<tr><th scope=row>5</th><td>5</td><td>0</td><td>3</td><td>Allen, Mr. William Henry      </td><td>male</td><td>35</td><td>0</td><td>0</td><td>373450   </td><td> 8.0500</td><td>   </td><td>S</td></tr>\n",
       "\t<tr><th scope=row>6</th><td>6</td><td>0</td><td>3</td><td>Moran, Mr. James              </td><td>male</td><td>NA</td><td>0</td><td>0</td><td>330877   </td><td> 8.4583</td><td>   </td><td>Q</td></tr>\n",
       "\t<tr><th scope=row>7</th><td>7</td><td>0</td><td>1</td><td>McCarthy, Mr. Timothy J       </td><td>male</td><td>54</td><td>0</td><td>0</td><td>17463    </td><td>51.8625</td><td>E46</td><td>S</td></tr>\n",
       "\t<tr><th scope=row>8</th><td>8</td><td>0</td><td>3</td><td>Palsson, Master. Gosta Leonard</td><td>male</td><td> 2</td><td>3</td><td>1</td><td>349909   </td><td>21.0750</td><td>   </td><td>S</td></tr>\n",
       "</tbody>\n",
       "</table>\n"
      ],
      "text/latex": [
       "A data.frame: 5 × 12\n",
       "\\begin{tabular}{r|llllllllllll}\n",
       "  & PassengerId & Survived & Pclass & Name & Sex & Age & SibSp & Parch & Ticket & Fare & Cabin & Embarked\\\\\n",
       "  & <int> & <fct> & <fct> & <fct> & <fct> & <dbl> & <int> & <int> & <fct> & <dbl> & <fct> & <fct>\\\\\n",
       "\\hline\n",
       "\t1 & 1 & 0 & 3 & Braund, Mr. Owen Harris        & male & 22 & 1 & 0 & A/5 21171 &  7.2500 &     & S\\\\\n",
       "\t5 & 5 & 0 & 3 & Allen, Mr. William Henry       & male & 35 & 0 & 0 & 373450    &  8.0500 &     & S\\\\\n",
       "\t6 & 6 & 0 & 3 & Moran, Mr. James               & male & NA & 0 & 0 & 330877    &  8.4583 &     & Q\\\\\n",
       "\t7 & 7 & 0 & 1 & McCarthy, Mr. Timothy J        & male & 54 & 0 & 0 & 17463     & 51.8625 & E46 & S\\\\\n",
       "\t8 & 8 & 0 & 3 & Palsson, Master. Gosta Leonard & male &  2 & 3 & 1 & 349909    & 21.0750 &     & S\\\\\n",
       "\\end{tabular}\n"
      ],
      "text/markdown": [
       "\n",
       "A data.frame: 5 × 12\n",
       "\n",
       "| <!--/--> | PassengerId &lt;int&gt; | Survived &lt;fct&gt; | Pclass &lt;fct&gt; | Name &lt;fct&gt; | Sex &lt;fct&gt; | Age &lt;dbl&gt; | SibSp &lt;int&gt; | Parch &lt;int&gt; | Ticket &lt;fct&gt; | Fare &lt;dbl&gt; | Cabin &lt;fct&gt; | Embarked &lt;fct&gt; |\n",
       "|---|---|---|---|---|---|---|---|---|---|---|---|---|\n",
       "| 1 | 1 | 0 | 3 | Braund, Mr. Owen Harris        | male | 22 | 1 | 0 | A/5 21171 |  7.2500 | <!----> | S |\n",
       "| 5 | 5 | 0 | 3 | Allen, Mr. William Henry       | male | 35 | 0 | 0 | 373450    |  8.0500 | <!----> | S |\n",
       "| 6 | 6 | 0 | 3 | Moran, Mr. James               | male | NA | 0 | 0 | 330877    |  8.4583 | <!----> | Q |\n",
       "| 7 | 7 | 0 | 1 | McCarthy, Mr. Timothy J        | male | 54 | 0 | 0 | 17463     | 51.8625 | E46 | S |\n",
       "| 8 | 8 | 0 | 3 | Palsson, Master. Gosta Leonard | male |  2 | 3 | 1 | 349909    | 21.0750 | <!----> | S |\n",
       "\n"
      ],
      "text/plain": [
       "  PassengerId Survived Pclass Name                           Sex  Age SibSp\n",
       "1 1           0        3      Braund, Mr. Owen Harris        male 22  1    \n",
       "5 5           0        3      Allen, Mr. William Henry       male 35  0    \n",
       "6 6           0        3      Moran, Mr. James               male NA  0    \n",
       "7 7           0        1      McCarthy, Mr. Timothy J        male 54  0    \n",
       "8 8           0        3      Palsson, Master. Gosta Leonard male  2  3    \n",
       "  Parch Ticket    Fare    Cabin Embarked\n",
       "1 0     A/5 21171  7.2500       S       \n",
       "5 0     373450     8.0500       S       \n",
       "6 0     330877     8.4583       Q       \n",
       "7 0     17463     51.8625 E46   S       \n",
       "8 1     349909    21.0750       S       "
      ]
     },
     "metadata": {},
     "output_type": "display_data"
    }
   ],
   "source": [
    "# Check out males to see if pattern continues\n",
    "males <- data.combined[which(data.combined$Sex == \"male\"), ]\n",
    "males[1:5,]"
   ]
  },
  {
   "cell_type": "code",
   "execution_count": 16,
   "metadata": {},
   "outputs": [],
   "source": [
    "# Expand upon the realtionship between `Survived` and `Pclass` by adding the new `Title` variable to the\n",
    "# data set and then explore a potential 3-dimensional relationship.\n",
    "\n",
    "# Create a utility function to help with title extraction\n",
    "extractTitle <- function(Name) {\n",
    "  Name <- as.character(Name)\n",
    "\n",
    "    if (length(grep(\"Miss.\", Name)) > 0) {\n",
    "    return (\"Miss.\")\n",
    "  } else if (length(grep(\"Master.\", Name)) > 0) {\n",
    "    return (\"Master.\")\n",
    "  } else if (length(grep(\"Mrs.\", Name)) > 0) {\n",
    "    return (\"Mrs.\")\n",
    "  } else if (length(grep(\"Mr.\", Name)) > 0) {\n",
    "    return (\"Mr.\")\n",
    "  } else {\n",
    "    return (\"Other\")\n",
    "  }\n",
    "}\n",
    "\n",
    "titles <- NULL\n",
    "for (i in 1:nrow(data.combined)) {\n",
    "  titles <- c(titles, extractTitle(data.combined[i,\"Name\"]))\n",
    "}\n",
    "data.combined$title <- as.factor(titles)\n"
   ]
  },
  {
   "cell_type": "code",
   "execution_count": 17,
   "metadata": {},
   "outputs": [
    {
     "data": {
      "image/png": "[encoded data removed]",
      "text/plain": [
       "plot without title"
      ]
     },
     "metadata": {
      "image/png": {
       "height": 420,
       "width": 420
      },
      "text/plain": {
       "height": 420,
       "width": 420
      }
     },
     "output_type": "display_data"
    }
   ],
   "source": [
    "# Since we only have Survived lables for the train set, only use the\n",
    "# first 891 rows\n",
    "ggplot(data.combined[1:891,], aes(x = title, fill = Survived)) +\n",
    "  geom_bar() +\n",
    "  facet_wrap(~Pclass) + \n",
    "  ggtitle(\"Pclass\") +\n",
    "  xlab(\"Title\") +\n",
    "  ylab(\"Total Count\") +\n",
    "  labs(fill = \"Survived\")"
   ]
  },
  {
   "cell_type": "code",
   "execution_count": 18,
   "metadata": {},
   "outputs": [
    {
     "data": {
      "text/plain": [
       "\n",
       "female   male \n",
       "   466    843 "
      ]
     },
     "metadata": {},
     "output_type": "display_data"
    }
   ],
   "source": [
    "# What's the distribution of females to males across train & test?\n",
    "table(data.combined$Sex)"
   ]
  },
  {
   "cell_type": "code",
   "execution_count": 19,
   "metadata": {},
   "outputs": [
    {
     "data": {
      "image/png": "[encoded data removed]",
      "text/plain": [
       "plot without title"
      ]
     },
     "metadata": {
      "image/png": {
       "height": 420,
       "width": 420
      },
      "text/plain": {
       "height": 420,
       "width": 420
      }
     },
     "output_type": "display_data"
    }
   ],
   "source": [
    "# Visualize the 3-way relationship of Sex, Pclass, and survival, compare to analysis of title\n",
    "ggplot(data.combined[1:891,], aes(x = Sex, fill = Survived)) +\n",
    "  geom_bar() +\n",
    "  facet_wrap(~Pclass) + \n",
    "  ggtitle(\"Pclass\") +\n",
    "  xlab(\"Sex\") +\n",
    "  ylab(\"Total Count\") +\n",
    "  labs(fill = \"Survived\")"
   ]
  },
  {
   "cell_type": "code",
   "execution_count": 20,
   "metadata": {},
   "outputs": [
    {
     "data": {
      "text/plain": [
       "   Min. 1st Qu.  Median    Mean 3rd Qu.    Max.    NA's \n",
       "   0.17   21.00   28.00   29.88   39.00   80.00     263 "
      ]
     },
     "metadata": {},
     "output_type": "display_data"
    },
    {
     "data": {
      "text/plain": [
       "   Min. 1st Qu.  Median    Mean 3rd Qu.    Max.    NA's \n",
       "   0.42   20.12   28.00   29.70   38.00   80.00     177 "
      ]
     },
     "metadata": {},
     "output_type": "display_data"
    }
   ],
   "source": [
    "# OK, age and sex seem pretty important as derived from analysis of title, let's take a closer \n",
    "# look at the distibutions of age over entire data set\n",
    "summary(data.combined$Age)\n",
    "summary(data.combined[1:891,\"Age\"])"
   ]
  },
  {
   "cell_type": "code",
   "execution_count": 21,
   "metadata": {},
   "outputs": [
    {
     "name": "stderr",
     "output_type": "stream",
     "text": [
      "Warning message:\n",
      "\"Removed 177 rows containing non-finite values (stat_bin).\"\n"
     ]
    },
    {
     "data": {
      "image/png": "[encoded data removed]",
      "text/plain": [
       "plot without title"
      ]
     },
     "metadata": {
      "image/png": {
       "height": 420,
       "width": 420
      },
      "text/plain": {
       "height": 420,
       "width": 420
      }
     },
     "output_type": "display_data"
    }
   ],
   "source": [
    "# Just to be thorough, take a look at survival rates broken out by sex, pclass, and age\n",
    "ggplot(data.combined[1:891,], aes(x = Age, fill = Survived)) +\n",
    "  facet_wrap(~Sex + Pclass) +\n",
    "  geom_histogram(binwidth = 10) +\n",
    "  xlab(\"Age\") +\n",
    "  ylab(\"Total Count\")"
   ]
  },
  {
   "cell_type": "code",
   "execution_count": 22,
   "metadata": {},
   "outputs": [
    {
     "data": {
      "text/plain": [
       "   Min. 1st Qu.  Median    Mean 3rd Qu.    Max.    NA's \n",
       "  0.330   2.000   4.000   5.483   9.000  14.500       8 "
      ]
     },
     "metadata": {},
     "output_type": "display_data"
    }
   ],
   "source": [
    "# Validate that \"Master.\" is a good proxy for male children\n",
    "boys <- data.combined[which(data.combined$title == \"Master.\"),]\n",
    "summary(boys$Age)"
   ]
  },
  {
   "cell_type": "code",
   "execution_count": 23,
   "metadata": {},
   "outputs": [
    {
     "data": {
      "text/plain": [
       "   Min. 1st Qu.  Median    Mean 3rd Qu.    Max.    NA's \n",
       "   0.17   15.00   22.00   21.77   30.00   63.00      50 "
      ]
     },
     "metadata": {},
     "output_type": "display_data"
    }
   ],
   "source": [
    "# We know that \"Miss.\" is more complicated, let's examine further\n",
    "misses <- data.combined[which(data.combined$title == \"Miss.\"),]\n",
    "summary(misses$Age)"
   ]
  },
  {
   "cell_type": "code",
   "execution_count": 24,
   "metadata": {},
   "outputs": [
    {
     "name": "stderr",
     "output_type": "stream",
     "text": [
      "Warning message:\n",
      "\"Removed 36 rows containing non-finite values (stat_bin).\"\n"
     ]
    },
    {
     "data": {
      "image/png": "[encoded data removed]",
      "text/plain": [
       "plot without title"
      ]
     },
     "metadata": {
      "image/png": {
       "height": 420,
       "width": 420
      },
      "text/plain": {
       "height": 420,
       "width": 420
      }
     },
     "output_type": "display_data"
    }
   ],
   "source": [
    "ggplot(misses[misses$Survived != \"None\",], aes(x = Age, fill = Survived)) +\n",
    "  facet_wrap(~Pclass) +\n",
    "  geom_histogram(binwidth = 5) +\n",
    "  ggtitle(\"Age for 'Miss.' by Pclass\") + \n",
    "  xlab(\"Age\") +\n",
    "  ylab(\"Total Count\")"
   ]
  },
  {
   "cell_type": "code",
   "execution_count": 25,
   "metadata": {},
   "outputs": [
    {
     "data": {
      "text/plain": [
       "   Min. 1st Qu.  Median    Mean 3rd Qu.    Max.    NA's \n",
       "   5.00   21.00   26.00   27.23   32.50   58.00      33 "
      ]
     },
     "metadata": {},
     "output_type": "display_data"
    },
    {
     "data": {
      "text/html": [
       "4"
      ],
      "text/latex": [
       "4"
      ],
      "text/markdown": [
       "4"
      ],
      "text/plain": [
       "[1] 4"
      ]
     },
     "metadata": {},
     "output_type": "display_data"
    }
   ],
   "source": [
    "# OK, appears female children may have different survival rate, \n",
    "# could be a candidate for feature engineering later\n",
    "misses.alone <- misses[which(misses$SibSp == 0 & misses$Parch == 0),]\n",
    "summary(misses.alone$Age)\n",
    "length(which(misses.alone$Age <= 14.5))"
   ]
  },
  {
   "cell_type": "code",
   "execution_count": 26,
   "metadata": {},
   "outputs": [
    {
     "data": {
      "text/plain": [
       "   Min. 1st Qu.  Median    Mean 3rd Qu.    Max. \n",
       " 0.0000  0.0000  0.0000  0.4989  1.0000  8.0000 "
      ]
     },
     "metadata": {},
     "output_type": "display_data"
    }
   ],
   "source": [
    "# Move on to the sibsp variable, summarize the variable\n",
    "summary(data.combined$SibSp)"
   ]
  },
  {
   "cell_type": "code",
   "execution_count": 27,
   "metadata": {},
   "outputs": [
    {
     "data": {
      "text/html": [
       "7"
      ],
      "text/latex": [
       "7"
      ],
      "text/markdown": [
       "7"
      ],
      "text/plain": [
       "[1] 7"
      ]
     },
     "metadata": {},
     "output_type": "display_data"
    }
   ],
   "source": [
    "# Can we treat as a factor?\n",
    "length(unique(data.combined$SibSp))"
   ]
  },
  {
   "cell_type": "code",
   "execution_count": 28,
   "metadata": {},
   "outputs": [],
   "source": [
    "data.combined$SibSp <- as.factor(data.combined$SibSp)"
   ]
  },
  {
   "cell_type": "code",
   "execution_count": 29,
   "metadata": {},
   "outputs": [
    {
     "data": {
      "image/png": "[encoded data removed]",
      "text/plain": [
       "plot without title"
      ]
     },
     "metadata": {
      "image/png": {
       "height": 420,
       "width": 420
      },
      "text/plain": {
       "height": 420,
       "width": 420
      }
     },
     "output_type": "display_data"
    }
   ],
   "source": [
    "# We believe title is predictive. Visualize survival reates by sibsp, pclass, and title\n",
    "ggplot(data.combined[1:891,], aes(x = SibSp, fill = Survived)) +\n",
    "  geom_bar() +\n",
    "  facet_wrap(~Pclass + title) + \n",
    "  ggtitle(\"Pclass, Title\") +\n",
    "  xlab(\"SibSp\") +\n",
    "  ylab(\"Total Count\") +\n",
    "  ylim(0,300) +\n",
    "  labs(fill = \"Survived\")"
   ]
  },
  {
   "cell_type": "code",
   "execution_count": 30,
   "metadata": {},
   "outputs": [
    {
     "data": {
      "image/png": "[encoded data removed]",
      "text/plain": [
       "plot without title"
      ]
     },
     "metadata": {
      "image/png": {
       "height": 420,
       "width": 420
      },
      "text/plain": {
       "height": 420,
       "width": 420
      }
     },
     "output_type": "display_data"
    }
   ],
   "source": [
    "# Treat the parch vaiable as a factor and visualize\n",
    "data.combined$Parch <- as.factor(data.combined$Parch)\n",
    "ggplot(data.combined[1:891,], aes(x = Parch, fill = Survived)) +\n",
    "  geom_bar() +\n",
    "  facet_wrap(~Pclass + title) + \n",
    "  ggtitle(\"Pclass, Title\") +\n",
    "  xlab(\"ParCh\") +\n",
    "  ylab(\"Total Count\") +\n",
    "  ylim(0,300) +\n",
    "  labs(fill = \"Survived\")"
   ]
  },
  {
   "cell_type": "code",
   "execution_count": 31,
   "metadata": {},
   "outputs": [],
   "source": [
    "# Let's try some feature engineering. What about creating a family size feature?\n",
    "temp.SibSp <- c(train$SibSp, test$SibSp)\n",
    "temp.Parch <- c(train$Parch, test$Parch)\n",
    "data.combined$family.size <- as.factor(temp.SibSp + temp.Parch + 1)"
   ]
  },
  {
   "cell_type": "code",
   "execution_count": 32,
   "metadata": {},
   "outputs": [
    {
     "data": {
      "image/png": "[encoded data removed]",
      "text/plain": [
       "plot without title"
      ]
     },
     "metadata": {
      "image/png": {
       "height": 420,
       "width": 420
      },
      "text/plain": {
       "height": 420,
       "width": 420
      }
     },
     "output_type": "display_data"
    }
   ],
   "source": [
    "# Visualize it to see if it is predictive\n",
    "ggplot(data.combined[1:891,], aes(x = family.size, fill = Survived)) +\n",
    "  geom_bar() +\n",
    "  facet_wrap(~Pclass + title) + \n",
    "  ggtitle(\"Pclass, Title\") +\n",
    "  xlab(\"family.size\") +\n",
    "  ylab(\"Total Count\") +\n",
    "  ylim(0,300) +\n",
    "  labs(fill = \"Survived\")"
   ]
  },
  {
   "cell_type": "code",
   "execution_count": 33,
   "metadata": {},
   "outputs": [
    {
     "name": "stdout",
     "output_type": "stream",
     "text": [
      " Factor w/ 929 levels \"110152\",\"110413\",..: 524 597 670 50 473 276 86 396 345 133 ...\n"
     ]
    }
   ],
   "source": [
    "# Take a look at the ticket variable\n",
    "str(data.combined$Ticket)"
   ]
  },
  {
   "cell_type": "code",
   "execution_count": 34,
   "metadata": {},
   "outputs": [
    {
     "data": {
      "text/html": [
       "<style>\n",
       ".list-inline {list-style: none; margin:0; padding: 0}\n",
       ".list-inline>li {display: inline-block}\n",
       ".list-inline>li:not(:last-child)::after {content: \"\\00b7\"; padding: 0 .5ex}\n",
       "</style>\n",
       "<ol class=list-inline><li>'A/5 21171'</li><li>'PC 17599'</li><li>'STON/O2. 3101282'</li><li>'113803'</li><li>'373450'</li><li>'330877'</li><li>'17463'</li><li>'349909'</li><li>'347742'</li><li>'237736'</li><li>'PP 9549'</li><li>'113783'</li><li>'A/5. 2151'</li><li>'347082'</li><li>'350406'</li><li>'248706'</li><li>'382652'</li><li>'244373'</li><li>'345763'</li><li>'2649'</li></ol>\n"
      ],
      "text/latex": [
       "\\begin{enumerate*}\n",
       "\\item 'A/5 21171'\n",
       "\\item 'PC 17599'\n",
       "\\item 'STON/O2. 3101282'\n",
       "\\item '113803'\n",
       "\\item '373450'\n",
       "\\item '330877'\n",
       "\\item '17463'\n",
       "\\item '349909'\n",
       "\\item '347742'\n",
       "\\item '237736'\n",
       "\\item 'PP 9549'\n",
       "\\item '113783'\n",
       "\\item 'A/5. 2151'\n",
       "\\item '347082'\n",
       "\\item '350406'\n",
       "\\item '248706'\n",
       "\\item '382652'\n",
       "\\item '244373'\n",
       "\\item '345763'\n",
       "\\item '2649'\n",
       "\\end{enumerate*}\n"
      ],
      "text/markdown": [
       "1. 'A/5 21171'\n",
       "2. 'PC 17599'\n",
       "3. 'STON/O2. 3101282'\n",
       "4. '113803'\n",
       "5. '373450'\n",
       "6. '330877'\n",
       "7. '17463'\n",
       "8. '349909'\n",
       "9. '347742'\n",
       "10. '237736'\n",
       "11. 'PP 9549'\n",
       "12. '113783'\n",
       "13. 'A/5. 2151'\n",
       "14. '347082'\n",
       "15. '350406'\n",
       "16. '248706'\n",
       "17. '382652'\n",
       "18. '244373'\n",
       "19. '345763'\n",
       "20. '2649'\n",
       "\n",
       "\n"
      ],
      "text/plain": [
       " [1] \"A/5 21171\"        \"PC 17599\"         \"STON/O2. 3101282\" \"113803\"          \n",
       " [5] \"373450\"           \"330877\"           \"17463\"            \"349909\"          \n",
       " [9] \"347742\"           \"237736\"           \"PP 9549\"          \"113783\"          \n",
       "[13] \"A/5. 2151\"        \"347082\"           \"350406\"           \"248706\"          \n",
       "[17] \"382652\"           \"244373\"           \"345763\"           \"2649\"            "
      ]
     },
     "metadata": {},
     "output_type": "display_data"
    }
   ],
   "source": [
    "# Based on the huge number of levels ticket really isn't a factor variable it is a string. \n",
    "# Convert it and display first 20\n",
    "data.combined$Ticket = as.character(data.combined$Ticket)\n",
    "data.combined$Ticket[1:20]"
   ]
  },
  {
   "cell_type": "code",
   "execution_count": 35,
   "metadata": {},
   "outputs": [
    {
     "data": {
      "text/html": [
       "<style>\n",
       ".list-inline {list-style: none; margin:0; padding: 0}\n",
       ".list-inline>li {display: inline-block}\n",
       ".list-inline>li:not(:last-child)::after {content: \"\\00b7\"; padding: 0 .5ex}\n",
       "</style>\n",
       "<ol class=list-inline><li>'A'</li><li>'P'</li><li>'S'</li><li>'1'</li><li>'3'</li><li>'2'</li><li>'C'</li><li>'7'</li><li>'W'</li><li>'4'</li><li>'F'</li><li>'L'</li><li>'9'</li><li>'6'</li><li>'5'</li><li>'8'</li></ol>\n"
      ],
      "text/latex": [
       "\\begin{enumerate*}\n",
       "\\item 'A'\n",
       "\\item 'P'\n",
       "\\item 'S'\n",
       "\\item '1'\n",
       "\\item '3'\n",
       "\\item '2'\n",
       "\\item 'C'\n",
       "\\item '7'\n",
       "\\item 'W'\n",
       "\\item '4'\n",
       "\\item 'F'\n",
       "\\item 'L'\n",
       "\\item '9'\n",
       "\\item '6'\n",
       "\\item '5'\n",
       "\\item '8'\n",
       "\\end{enumerate*}\n"
      ],
      "text/markdown": [
       "1. 'A'\n",
       "2. 'P'\n",
       "3. 'S'\n",
       "4. '1'\n",
       "5. '3'\n",
       "6. '2'\n",
       "7. 'C'\n",
       "8. '7'\n",
       "9. 'W'\n",
       "10. '4'\n",
       "11. 'F'\n",
       "12. 'L'\n",
       "13. '9'\n",
       "14. '6'\n",
       "15. '5'\n",
       "16. '8'\n",
       "\n",
       "\n"
      ],
      "text/plain": [
       " [1] \"A\" \"P\" \"S\" \"1\" \"3\" \"2\" \"C\" \"7\" \"W\" \"4\" \"F\" \"L\" \"9\" \"6\" \"5\" \"8\""
      ]
     },
     "metadata": {},
     "output_type": "display_data"
    }
   ],
   "source": [
    "# There's no immediately apparent structure in the data, let's see if we can find some.\n",
    "# We'll start with taking a look at just the first char for each\n",
    "ticket.first.char <- ifelse(data.combined$Ticket == \"\", \" \", substr(data.combined$Ticket, 1, 1))\n",
    "unique(ticket.first.char)\n",
    "#ticket.first.char <- substr(data.combined, 1, 2)"
   ]
  },
  {
   "cell_type": "code",
   "execution_count": 36,
   "metadata": {},
   "outputs": [],
   "source": [
    "# OK, we can make a factor for analysis purposes and visualize\n",
    "data.combined$ticket.first.char <- as.factor(ticket.first.char)"
   ]
  },
  {
   "cell_type": "code",
   "execution_count": 37,
   "metadata": {},
   "outputs": [
    {
     "data": {
      "image/png": "[encoded data removed]",
      "text/plain": [
       "plot without title"
      ]
     },
     "metadata": {
      "image/png": {
       "height": 420,
       "width": 420
      },
      "text/plain": {
       "height": 420,
       "width": 420
      }
     },
     "output_type": "display_data"
    }
   ],
   "source": [
    "# First, a high-level plot of the data\n",
    "ggplot(data.combined[1:891,], aes(x = ticket.first.char, fill = Survived)) +\n",
    "  geom_bar() +\n",
    "  ggtitle(\"Survivability by ticket.first.char\") +\n",
    "  xlab(\"ticket.first.char\") +\n",
    "  ylab(\"Total Count\") +\n",
    "  ylim(0,350) +\n",
    "  labs(fill = \"Survived\")"
   ]
  },
  {
   "cell_type": "code",
   "execution_count": 38,
   "metadata": {},
   "outputs": [
    {
     "data": {
      "image/png": "[encoded data removed]",
      "text/plain": [
       "plot without title"
      ]
     },
     "metadata": {
      "image/png": {
       "height": 420,
       "width": 420
      },
      "text/plain": {
       "height": 420,
       "width": 420
      }
     },
     "output_type": "display_data"
    }
   ],
   "source": [
    "# Ticket seems like it might be predictive, drill down a bit\n",
    "ggplot(data.combined[1:891,], aes(x = ticket.first.char, fill = Survived)) +\n",
    "  geom_bar() +\n",
    "  facet_wrap(~Pclass) + \n",
    "  ggtitle(\"Pclass\") +\n",
    "  xlab(\"ticket.first.char\") +\n",
    "  ylab(\"Total Count\") +\n",
    "  ylim(0,300) +\n",
    "  labs(fill = \"Survived\")"
   ]
  },
  {
   "cell_type": "code",
   "execution_count": 39,
   "metadata": {},
   "outputs": [
    {
     "data": {
      "image/png": "[encoded data removed]",
      "text/plain": [
       "plot without title"
      ]
     },
     "metadata": {
      "image/png": {
       "height": 420,
       "width": 420
      },
      "text/plain": {
       "height": 420,
       "width": 420
      }
     },
     "output_type": "display_data"
    }
   ],
   "source": [
    "# Lastly, see if we get a pattern when using combination of pclass & title\n",
    "ggplot(data.combined[1:891,], aes(x = ticket.first.char, fill =Survived)) +\n",
    "  geom_bar() +\n",
    "  facet_wrap(~Pclass + title) + \n",
    "  ggtitle(\"Pclass, Title\") +\n",
    "  xlab(\"ticket.first.char\") +\n",
    "  ylab(\"Total Count\") +\n",
    "  ylim(0,200) +\n",
    "  labs(fill = \"Survived\")"
   ]
  },
  {
   "cell_type": "code",
   "execution_count": 40,
   "metadata": {},
   "outputs": [
    {
     "data": {
      "text/plain": [
       "   Min. 1st Qu.  Median    Mean 3rd Qu.    Max.    NA's \n",
       "  0.000   7.896  14.454  33.295  31.275 512.329       1 "
      ]
     },
     "metadata": {},
     "output_type": "display_data"
    },
    {
     "data": {
      "text/html": [
       "0"
      ],
      "text/latex": [
       "0"
      ],
      "text/markdown": [
       "0"
      ],
      "text/plain": [
       "[1] 0"
      ]
     },
     "metadata": {},
     "output_type": "display_data"
    }
   ],
   "source": [
    "# Next up - the fares Titanic passengers paid\n",
    "summary(data.combined$Fare)\n",
    "length(unique(data.combined$fare))"
   ]
  },
  {
   "cell_type": "code",
   "execution_count": 41,
   "metadata": {},
   "outputs": [
    {
     "name": "stderr",
     "output_type": "stream",
     "text": [
      "Warning message:\n",
      "\"Removed 1 rows containing non-finite values (stat_bin).\"\n",
      "Warning message:\n",
      "\"Removed 1 rows containing missing values (geom_bar).\"\n"
     ]
    },
    {
     "data": {
      "image/png": "[encoded data removed]",
      "text/plain": [
       "plot without title"
      ]
     },
     "metadata": {
      "image/png": {
       "height": 420,
       "width": 420
      },
      "text/plain": {
       "height": 420,
       "width": 420
      }
     },
     "output_type": "display_data"
    }
   ],
   "source": [
    "# Can't make fare a factor, treat as numeric & visualize with histogram\n",
    "ggplot(data.combined, aes(x = Fare)) +\n",
    "  geom_histogram(binwidth = 5) +\n",
    "  ggtitle(\"Combined Fare Distribution\") +\n",
    "  xlab(\"Fare\") +\n",
    "  ylab(\"Total Count\") +\n",
    "  ylim(0,200)"
   ]
  },
  {
   "cell_type": "code",
   "execution_count": 42,
   "metadata": {},
   "outputs": [
    {
     "name": "stderr",
     "output_type": "stream",
     "text": [
      "Warning message:\n",
      "\"Removed 3 rows containing missing values (geom_bar).\"\n"
     ]
    },
    {
     "data": {
      "image/png": "[encoded data removed]",
      "text/plain": [
       "plot without title"
      ]
     },
     "metadata": {
      "image/png": {
       "height": 420,
       "width": 420
      },
      "text/plain": {
       "height": 420,
       "width": 420
      }
     },
     "output_type": "display_data"
    }
   ],
   "source": [
    "# Let's check to see if fare has predictive power\n",
    "ggplot(data.combined[1:891,], aes(x = Fare, fill = Survived)) +\n",
    "  geom_histogram(binwidth = 5) +\n",
    "  facet_wrap(~Pclass + title) + \n",
    "  ggtitle(\"Pclass, Title\") +\n",
    "  xlab(\"fare\") +\n",
    "  ylab(\"Total Count\") +\n",
    "  ylim(0,50) + \n",
    "  labs(fill = \"Survived\")"
   ]
  },
  {
   "cell_type": "code",
   "execution_count": 43,
   "metadata": {},
   "outputs": [
    {
     "name": "stdout",
     "output_type": "stream",
     "text": [
      " Factor w/ 187 levels \"\",\"A10\",\"A14\",..: 1 83 1 57 1 1 131 1 1 1 ...\n"
     ]
    }
   ],
   "source": [
    "# Analysis of the cabin variable\n",
    "str(data.combined$Cabin)"
   ]
  },
  {
   "cell_type": "code",
   "execution_count": 49,
   "metadata": {},
   "outputs": [
    {
     "data": {
      "text/html": [
       "<style>\n",
       ".list-inline {list-style: none; margin:0; padding: 0}\n",
       ".list-inline>li {display: inline-block}\n",
       ".list-inline>li:not(:last-child)::after {content: \"\\00b7\"; padding: 0 .5ex}\n",
       "</style>\n",
       "<ol class=list-inline><li>''</li><li>'C85'</li><li>''</li><li>'C123'</li><li>''</li><li>''</li><li>'E46'</li><li>''</li><li>''</li><li>''</li><li>'G6'</li><li>'C103'</li><li>''</li><li>''</li><li>''</li><li>''</li><li>''</li><li>''</li><li>''</li><li>''</li><li>''</li><li>'D56'</li><li>''</li><li>'A6'</li><li>''</li><li>''</li><li>''</li><li>'C23 C25 C27'</li><li>''</li><li>''</li><li>''</li><li>'B78'</li><li>''</li><li>''</li><li>''</li><li>''</li><li>''</li><li>''</li><li>''</li><li>''</li><li>''</li><li>''</li><li>''</li><li>''</li><li>''</li><li>''</li><li>''</li><li>''</li><li>''</li><li>''</li><li>''</li><li>''</li><li>'D33'</li><li>''</li><li>'B30'</li><li>'C52'</li><li>''</li><li>''</li><li>''</li><li>''</li><li>''</li><li>'B28'</li><li>'C83'</li><li>''</li><li>''</li><li>''</li><li>'F33'</li><li>''</li><li>''</li><li>''</li><li>''</li><li>''</li><li>''</li><li>''</li><li>''</li><li>'F G73'</li><li>''</li><li>''</li><li>''</li><li>''</li><li>''</li><li>''</li><li>''</li><li>''</li><li>''</li><li>''</li><li>''</li><li>''</li><li>'C23 C25 C27'</li><li>''</li><li>''</li><li>''</li><li>'E31'</li><li>''</li><li>''</li><li>''</li><li>'A5'</li><li>'D10 D12'</li><li>''</li><li>''</li></ol>\n"
      ],
      "text/latex": [
       "\\begin{enumerate*}\n",
       "\\item ''\n",
       "\\item 'C85'\n",
       "\\item ''\n",
       "\\item 'C123'\n",
       "\\item ''\n",
       "\\item ''\n",
       "\\item 'E46'\n",
       "\\item ''\n",
       "\\item ''\n",
       "\\item ''\n",
       "\\item 'G6'\n",
       "\\item 'C103'\n",
       "\\item ''\n",
       "\\item ''\n",
       "\\item ''\n",
       "\\item ''\n",
       "\\item ''\n",
       "\\item ''\n",
       "\\item ''\n",
       "\\item ''\n",
       "\\item ''\n",
       "\\item 'D56'\n",
       "\\item ''\n",
       "\\item 'A6'\n",
       "\\item ''\n",
       "\\item ''\n",
       "\\item ''\n",
       "\\item 'C23 C25 C27'\n",
       "\\item ''\n",
       "\\item ''\n",
       "\\item ''\n",
       "\\item 'B78'\n",
       "\\item ''\n",
       "\\item ''\n",
       "\\item ''\n",
       "\\item ''\n",
       "\\item ''\n",
       "\\item ''\n",
       "\\item ''\n",
       "\\item ''\n",
       "\\item ''\n",
       "\\item ''\n",
       "\\item ''\n",
       "\\item ''\n",
       "\\item ''\n",
       "\\item ''\n",
       "\\item ''\n",
       "\\item ''\n",
       "\\item ''\n",
       "\\item ''\n",
       "\\item ''\n",
       "\\item ''\n",
       "\\item 'D33'\n",
       "\\item ''\n",
       "\\item 'B30'\n",
       "\\item 'C52'\n",
       "\\item ''\n",
       "\\item ''\n",
       "\\item ''\n",
       "\\item ''\n",
       "\\item ''\n",
       "\\item 'B28'\n",
       "\\item 'C83'\n",
       "\\item ''\n",
       "\\item ''\n",
       "\\item ''\n",
       "\\item 'F33'\n",
       "\\item ''\n",
       "\\item ''\n",
       "\\item ''\n",
       "\\item ''\n",
       "\\item ''\n",
       "\\item ''\n",
       "\\item ''\n",
       "\\item ''\n",
       "\\item 'F G73'\n",
       "\\item ''\n",
       "\\item ''\n",
       "\\item ''\n",
       "\\item ''\n",
       "\\item ''\n",
       "\\item ''\n",
       "\\item ''\n",
       "\\item ''\n",
       "\\item ''\n",
       "\\item ''\n",
       "\\item ''\n",
       "\\item ''\n",
       "\\item 'C23 C25 C27'\n",
       "\\item ''\n",
       "\\item ''\n",
       "\\item ''\n",
       "\\item 'E31'\n",
       "\\item ''\n",
       "\\item ''\n",
       "\\item ''\n",
       "\\item 'A5'\n",
       "\\item 'D10 D12'\n",
       "\\item ''\n",
       "\\item ''\n",
       "\\end{enumerate*}\n"
      ],
      "text/markdown": [
       "1. ''\n",
       "2. 'C85'\n",
       "3. ''\n",
       "4. 'C123'\n",
       "5. ''\n",
       "6. ''\n",
       "7. 'E46'\n",
       "8. ''\n",
       "9. ''\n",
       "10. ''\n",
       "11. 'G6'\n",
       "12. 'C103'\n",
       "13. ''\n",
       "14. ''\n",
       "15. ''\n",
       "16. ''\n",
       "17. ''\n",
       "18. ''\n",
       "19. ''\n",
       "20. ''\n",
       "21. ''\n",
       "22. 'D56'\n",
       "23. ''\n",
       "24. 'A6'\n",
       "25. ''\n",
       "26. ''\n",
       "27. ''\n",
       "28. 'C23 C25 C27'\n",
       "29. ''\n",
       "30. ''\n",
       "31. ''\n",
       "32. 'B78'\n",
       "33. ''\n",
       "34. ''\n",
       "35. ''\n",
       "36. ''\n",
       "37. ''\n",
       "38. ''\n",
       "39. ''\n",
       "40. ''\n",
       "41. ''\n",
       "42. ''\n",
       "43. ''\n",
       "44. ''\n",
       "45. ''\n",
       "46. ''\n",
       "47. ''\n",
       "48. ''\n",
       "49. ''\n",
       "50. ''\n",
       "51. ''\n",
       "52. ''\n",
       "53. 'D33'\n",
       "54. ''\n",
       "55. 'B30'\n",
       "56. 'C52'\n",
       "57. ''\n",
       "58. ''\n",
       "59. ''\n",
       "60. ''\n",
       "61. ''\n",
       "62. 'B28'\n",
       "63. 'C83'\n",
       "64. ''\n",
       "65. ''\n",
       "66. ''\n",
       "67. 'F33'\n",
       "68. ''\n",
       "69. ''\n",
       "70. ''\n",
       "71. ''\n",
       "72. ''\n",
       "73. ''\n",
       "74. ''\n",
       "75. ''\n",
       "76. 'F G73'\n",
       "77. ''\n",
       "78. ''\n",
       "79. ''\n",
       "80. ''\n",
       "81. ''\n",
       "82. ''\n",
       "83. ''\n",
       "84. ''\n",
       "85. ''\n",
       "86. ''\n",
       "87. ''\n",
       "88. ''\n",
       "89. 'C23 C25 C27'\n",
       "90. ''\n",
       "91. ''\n",
       "92. ''\n",
       "93. 'E31'\n",
       "94. ''\n",
       "95. ''\n",
       "96. ''\n",
       "97. 'A5'\n",
       "98. 'D10 D12'\n",
       "99. ''\n",
       "100. ''\n",
       "\n",
       "\n"
      ],
      "text/plain": [
       "  [1] \"\"            \"C85\"         \"\"            \"C123\"        \"\"           \n",
       "  [6] \"\"            \"E46\"         \"\"            \"\"            \"\"           \n",
       " [11] \"G6\"          \"C103\"        \"\"            \"\"            \"\"           \n",
       " [16] \"\"            \"\"            \"\"            \"\"            \"\"           \n",
       " [21] \"\"            \"D56\"         \"\"            \"A6\"          \"\"           \n",
       " [26] \"\"            \"\"            \"C23 C25 C27\" \"\"            \"\"           \n",
       " [31] \"\"            \"B78\"         \"\"            \"\"            \"\"           \n",
       " [36] \"\"            \"\"            \"\"            \"\"            \"\"           \n",
       " [41] \"\"            \"\"            \"\"            \"\"            \"\"           \n",
       " [46] \"\"            \"\"            \"\"            \"\"            \"\"           \n",
       " [51] \"\"            \"\"            \"D33\"         \"\"            \"B30\"        \n",
       " [56] \"C52\"         \"\"            \"\"            \"\"            \"\"           \n",
       " [61] \"\"            \"B28\"         \"C83\"         \"\"            \"\"           \n",
       " [66] \"\"            \"F33\"         \"\"            \"\"            \"\"           \n",
       " [71] \"\"            \"\"            \"\"            \"\"            \"\"           \n",
       " [76] \"F G73\"       \"\"            \"\"            \"\"            \"\"           \n",
       " [81] \"\"            \"\"            \"\"            \"\"            \"\"           \n",
       " [86] \"\"            \"\"            \"\"            \"C23 C25 C27\" \"\"           \n",
       " [91] \"\"            \"\"            \"E31\"         \"\"            \"\"           \n",
       " [96] \"\"            \"A5\"          \"D10 D12\"     \"\"            \"\"           "
      ]
     },
     "metadata": {},
     "output_type": "display_data"
    }
   ],
   "source": [
    "# Cabin really isn't a factor, make a string and the display first 100\n",
    "data.combined$Cabin <- as.character(data.combined$Cabin)\n",
    "data.combined$Cabin[1:100]"
   ]
  },
  {
   "cell_type": "code",
   "execution_count": 51,
   "metadata": {},
   "outputs": [
    {
     "data": {
      "text/html": [
       "<style>\n",
       ".list-inline {list-style: none; margin:0; padding: 0}\n",
       ".list-inline>li {display: inline-block}\n",
       ".list-inline>li:not(:last-child)::after {content: \"\\00b7\"; padding: 0 .5ex}\n",
       "</style>\n",
       "<ol class=list-inline><li>'U'</li><li>'C85'</li><li>'U'</li><li>'C123'</li><li>'U'</li><li>'U'</li><li>'E46'</li><li>'U'</li><li>'U'</li><li>'U'</li><li>'G6'</li><li>'C103'</li><li>'U'</li><li>'U'</li><li>'U'</li><li>'U'</li><li>'U'</li><li>'U'</li><li>'U'</li><li>'U'</li><li>'U'</li><li>'D56'</li><li>'U'</li><li>'A6'</li><li>'U'</li><li>'U'</li><li>'U'</li><li>'C23 C25 C27'</li><li>'U'</li><li>'U'</li><li>'U'</li><li>'B78'</li><li>'U'</li><li>'U'</li><li>'U'</li><li>'U'</li><li>'U'</li><li>'U'</li><li>'U'</li><li>'U'</li><li>'U'</li><li>'U'</li><li>'U'</li><li>'U'</li><li>'U'</li><li>'U'</li><li>'U'</li><li>'U'</li><li>'U'</li><li>'U'</li><li>'U'</li><li>'U'</li><li>'D33'</li><li>'U'</li><li>'B30'</li><li>'C52'</li><li>'U'</li><li>'U'</li><li>'U'</li><li>'U'</li><li>'U'</li><li>'B28'</li><li>'C83'</li><li>'U'</li><li>'U'</li><li>'U'</li><li>'F33'</li><li>'U'</li><li>'U'</li><li>'U'</li><li>'U'</li><li>'U'</li><li>'U'</li><li>'U'</li><li>'U'</li><li>'F G73'</li><li>'U'</li><li>'U'</li><li>'U'</li><li>'U'</li><li>'U'</li><li>'U'</li><li>'U'</li><li>'U'</li><li>'U'</li><li>'U'</li><li>'U'</li><li>'U'</li><li>'C23 C25 C27'</li><li>'U'</li><li>'U'</li><li>'U'</li><li>'E31'</li><li>'U'</li><li>'U'</li><li>'U'</li><li>'A5'</li><li>'D10 D12'</li><li>'U'</li><li>'U'</li></ol>\n"
      ],
      "text/latex": [
       "\\begin{enumerate*}\n",
       "\\item 'U'\n",
       "\\item 'C85'\n",
       "\\item 'U'\n",
       "\\item 'C123'\n",
       "\\item 'U'\n",
       "\\item 'U'\n",
       "\\item 'E46'\n",
       "\\item 'U'\n",
       "\\item 'U'\n",
       "\\item 'U'\n",
       "\\item 'G6'\n",
       "\\item 'C103'\n",
       "\\item 'U'\n",
       "\\item 'U'\n",
       "\\item 'U'\n",
       "\\item 'U'\n",
       "\\item 'U'\n",
       "\\item 'U'\n",
       "\\item 'U'\n",
       "\\item 'U'\n",
       "\\item 'U'\n",
       "\\item 'D56'\n",
       "\\item 'U'\n",
       "\\item 'A6'\n",
       "\\item 'U'\n",
       "\\item 'U'\n",
       "\\item 'U'\n",
       "\\item 'C23 C25 C27'\n",
       "\\item 'U'\n",
       "\\item 'U'\n",
       "\\item 'U'\n",
       "\\item 'B78'\n",
       "\\item 'U'\n",
       "\\item 'U'\n",
       "\\item 'U'\n",
       "\\item 'U'\n",
       "\\item 'U'\n",
       "\\item 'U'\n",
       "\\item 'U'\n",
       "\\item 'U'\n",
       "\\item 'U'\n",
       "\\item 'U'\n",
       "\\item 'U'\n",
       "\\item 'U'\n",
       "\\item 'U'\n",
       "\\item 'U'\n",
       "\\item 'U'\n",
       "\\item 'U'\n",
       "\\item 'U'\n",
       "\\item 'U'\n",
       "\\item 'U'\n",
       "\\item 'U'\n",
       "\\item 'D33'\n",
       "\\item 'U'\n",
       "\\item 'B30'\n",
       "\\item 'C52'\n",
       "\\item 'U'\n",
       "\\item 'U'\n",
       "\\item 'U'\n",
       "\\item 'U'\n",
       "\\item 'U'\n",
       "\\item 'B28'\n",
       "\\item 'C83'\n",
       "\\item 'U'\n",
       "\\item 'U'\n",
       "\\item 'U'\n",
       "\\item 'F33'\n",
       "\\item 'U'\n",
       "\\item 'U'\n",
       "\\item 'U'\n",
       "\\item 'U'\n",
       "\\item 'U'\n",
       "\\item 'U'\n",
       "\\item 'U'\n",
       "\\item 'U'\n",
       "\\item 'F G73'\n",
       "\\item 'U'\n",
       "\\item 'U'\n",
       "\\item 'U'\n",
       "\\item 'U'\n",
       "\\item 'U'\n",
       "\\item 'U'\n",
       "\\item 'U'\n",
       "\\item 'U'\n",
       "\\item 'U'\n",
       "\\item 'U'\n",
       "\\item 'U'\n",
       "\\item 'U'\n",
       "\\item 'C23 C25 C27'\n",
       "\\item 'U'\n",
       "\\item 'U'\n",
       "\\item 'U'\n",
       "\\item 'E31'\n",
       "\\item 'U'\n",
       "\\item 'U'\n",
       "\\item 'U'\n",
       "\\item 'A5'\n",
       "\\item 'D10 D12'\n",
       "\\item 'U'\n",
       "\\item 'U'\n",
       "\\end{enumerate*}\n"
      ],
      "text/markdown": [
       "1. 'U'\n",
       "2. 'C85'\n",
       "3. 'U'\n",
       "4. 'C123'\n",
       "5. 'U'\n",
       "6. 'U'\n",
       "7. 'E46'\n",
       "8. 'U'\n",
       "9. 'U'\n",
       "10. 'U'\n",
       "11. 'G6'\n",
       "12. 'C103'\n",
       "13. 'U'\n",
       "14. 'U'\n",
       "15. 'U'\n",
       "16. 'U'\n",
       "17. 'U'\n",
       "18. 'U'\n",
       "19. 'U'\n",
       "20. 'U'\n",
       "21. 'U'\n",
       "22. 'D56'\n",
       "23. 'U'\n",
       "24. 'A6'\n",
       "25. 'U'\n",
       "26. 'U'\n",
       "27. 'U'\n",
       "28. 'C23 C25 C27'\n",
       "29. 'U'\n",
       "30. 'U'\n",
       "31. 'U'\n",
       "32. 'B78'\n",
       "33. 'U'\n",
       "34. 'U'\n",
       "35. 'U'\n",
       "36. 'U'\n",
       "37. 'U'\n",
       "38. 'U'\n",
       "39. 'U'\n",
       "40. 'U'\n",
       "41. 'U'\n",
       "42. 'U'\n",
       "43. 'U'\n",
       "44. 'U'\n",
       "45. 'U'\n",
       "46. 'U'\n",
       "47. 'U'\n",
       "48. 'U'\n",
       "49. 'U'\n",
       "50. 'U'\n",
       "51. 'U'\n",
       "52. 'U'\n",
       "53. 'D33'\n",
       "54. 'U'\n",
       "55. 'B30'\n",
       "56. 'C52'\n",
       "57. 'U'\n",
       "58. 'U'\n",
       "59. 'U'\n",
       "60. 'U'\n",
       "61. 'U'\n",
       "62. 'B28'\n",
       "63. 'C83'\n",
       "64. 'U'\n",
       "65. 'U'\n",
       "66. 'U'\n",
       "67. 'F33'\n",
       "68. 'U'\n",
       "69. 'U'\n",
       "70. 'U'\n",
       "71. 'U'\n",
       "72. 'U'\n",
       "73. 'U'\n",
       "74. 'U'\n",
       "75. 'U'\n",
       "76. 'F G73'\n",
       "77. 'U'\n",
       "78. 'U'\n",
       "79. 'U'\n",
       "80. 'U'\n",
       "81. 'U'\n",
       "82. 'U'\n",
       "83. 'U'\n",
       "84. 'U'\n",
       "85. 'U'\n",
       "86. 'U'\n",
       "87. 'U'\n",
       "88. 'U'\n",
       "89. 'C23 C25 C27'\n",
       "90. 'U'\n",
       "91. 'U'\n",
       "92. 'U'\n",
       "93. 'E31'\n",
       "94. 'U'\n",
       "95. 'U'\n",
       "96. 'U'\n",
       "97. 'A5'\n",
       "98. 'D10 D12'\n",
       "99. 'U'\n",
       "100. 'U'\n",
       "\n",
       "\n"
      ],
      "text/plain": [
       "  [1] \"U\"           \"C85\"         \"U\"           \"C123\"        \"U\"          \n",
       "  [6] \"U\"           \"E46\"         \"U\"           \"U\"           \"U\"          \n",
       " [11] \"G6\"          \"C103\"        \"U\"           \"U\"           \"U\"          \n",
       " [16] \"U\"           \"U\"           \"U\"           \"U\"           \"U\"          \n",
       " [21] \"U\"           \"D56\"         \"U\"           \"A6\"          \"U\"          \n",
       " [26] \"U\"           \"U\"           \"C23 C25 C27\" \"U\"           \"U\"          \n",
       " [31] \"U\"           \"B78\"         \"U\"           \"U\"           \"U\"          \n",
       " [36] \"U\"           \"U\"           \"U\"           \"U\"           \"U\"          \n",
       " [41] \"U\"           \"U\"           \"U\"           \"U\"           \"U\"          \n",
       " [46] \"U\"           \"U\"           \"U\"           \"U\"           \"U\"          \n",
       " [51] \"U\"           \"U\"           \"D33\"         \"U\"           \"B30\"        \n",
       " [56] \"C52\"         \"U\"           \"U\"           \"U\"           \"U\"          \n",
       " [61] \"U\"           \"B28\"         \"C83\"         \"U\"           \"U\"          \n",
       " [66] \"U\"           \"F33\"         \"U\"           \"U\"           \"U\"          \n",
       " [71] \"U\"           \"U\"           \"U\"           \"U\"           \"U\"          \n",
       " [76] \"F G73\"       \"U\"           \"U\"           \"U\"           \"U\"          \n",
       " [81] \"U\"           \"U\"           \"U\"           \"U\"           \"U\"          \n",
       " [86] \"U\"           \"U\"           \"U\"           \"C23 C25 C27\" \"U\"          \n",
       " [91] \"U\"           \"U\"           \"E31\"         \"U\"           \"U\"          \n",
       " [96] \"U\"           \"A5\"          \"D10 D12\"     \"U\"           \"U\"          "
      ]
     },
     "metadata": {},
     "output_type": "display_data"
    }
   ],
   "source": [
    "# Replace empty cabins with a \"U\"\n",
    "data.combined[which(data.combined$Cabin == \"\"), \"Cabin\"] <- \"U\"\n",
    "data.combined$Cabin[1:100]"
   ]
  },
  {
   "cell_type": "code",
   "execution_count": 53,
   "metadata": {},
   "outputs": [
    {
     "name": "stdout",
     "output_type": "stream",
     "text": [
      " Factor w/ 9 levels \"A\",\"B\",\"C\",\"D\",..: 9 3 9 3 9 9 5 9 9 9 ...\n"
     ]
    },
    {
     "data": {
      "text/html": [
       "<style>\n",
       ".list-inline {list-style: none; margin:0; padding: 0}\n",
       ".list-inline>li {display: inline-block}\n",
       ".list-inline>li:not(:last-child)::after {content: \"\\00b7\"; padding: 0 .5ex}\n",
       "</style>\n",
       "<ol class=list-inline><li>'A'</li><li>'B'</li><li>'C'</li><li>'D'</li><li>'E'</li><li>'F'</li><li>'G'</li><li>'T'</li><li>'U'</li></ol>\n"
      ],
      "text/latex": [
       "\\begin{enumerate*}\n",
       "\\item 'A'\n",
       "\\item 'B'\n",
       "\\item 'C'\n",
       "\\item 'D'\n",
       "\\item 'E'\n",
       "\\item 'F'\n",
       "\\item 'G'\n",
       "\\item 'T'\n",
       "\\item 'U'\n",
       "\\end{enumerate*}\n"
      ],
      "text/markdown": [
       "1. 'A'\n",
       "2. 'B'\n",
       "3. 'C'\n",
       "4. 'D'\n",
       "5. 'E'\n",
       "6. 'F'\n",
       "7. 'G'\n",
       "8. 'T'\n",
       "9. 'U'\n",
       "\n",
       "\n"
      ],
      "text/plain": [
       "[1] \"A\" \"B\" \"C\" \"D\" \"E\" \"F\" \"G\" \"T\" \"U\""
      ]
     },
     "metadata": {},
     "output_type": "display_data"
    }
   ],
   "source": [
    "# Take a look at just the first char as a factor\n",
    "cabin.first.char <- as.factor(substr(data.combined$Cabin, 1, 1))\n",
    "str(cabin.first.char)\n",
    "levels(cabin.first.char)"
   ]
  },
  {
   "cell_type": "code",
   "execution_count": 54,
   "metadata": {},
   "outputs": [],
   "source": [
    "# Add to combined data set and plot \n",
    "data.combined$cabin.first.char <- cabin.first.char"
   ]
  },
  {
   "cell_type": "code",
   "execution_count": 56,
   "metadata": {},
   "outputs": [
    {
     "data": {
      "image/png": "[encoded data removed]",
      "text/plain": [
       "plot without title"
      ]
     },
     "metadata": {
      "image/png": {
       "height": 420,
       "width": 420
      },
      "text/plain": {
       "height": 420,
       "width": 420
      }
     },
     "output_type": "display_data"
    }
   ],
   "source": [
    "# High level plot\n",
    "ggplot(data.combined[1:891,], aes(x = cabin.first.char, fill = Survived)) +\n",
    "  geom_bar() +\n",
    "  ggtitle(\"Survivability by cabin.first.char\") +\n",
    "  xlab(\"cabin.first.char\") +\n",
    "  ylab(\"Total Count\") +\n",
    "  ylim(0,750) +\n",
    "  labs(fill = \"Survived\")"
   ]
  },
  {
   "cell_type": "code",
   "execution_count": 57,
   "metadata": {},
   "outputs": [
    {
     "data": {
      "image/png": "[encoded data removed]",
      "text/plain": [
       "plot without title"
      ]
     },
     "metadata": {
      "image/png": {
       "height": 420,
       "width": 420
      },
      "text/plain": {
       "height": 420,
       "width": 420
      }
     },
     "output_type": "display_data"
    }
   ],
   "source": [
    "# Could have some predictive power, drill in\n",
    "ggplot(data.combined[1:891,], aes(x = cabin.first.char, fill = Survived)) +\n",
    "  geom_bar() +\n",
    "  facet_wrap(~Pclass) +\n",
    "  ggtitle(\"Survivability by cabin.first.char\") +\n",
    "  xlab(\"Pclass\") +\n",
    "  ylab(\"Total Count\") +\n",
    "  ylim(0,500) +\n",
    "  labs(fill = \"Survived\")"
   ]
  },
  {
   "cell_type": "code",
   "execution_count": 58,
   "metadata": {},
   "outputs": [
    {
     "data": {
      "image/png": "[encoded data removed]",
      "text/plain": [
       "plot without title"
      ]
     },
     "metadata": {
      "image/png": {
       "height": 420,
       "width": 420
      },
      "text/plain": {
       "height": 420,
       "width": 420
      }
     },
     "output_type": "display_data"
    }
   ],
   "source": [
    "# Does this feature improve upon pclass + title?\n",
    "ggplot(data.combined[1:891,], aes(x = cabin.first.char, fill = Survived)) +\n",
    "  geom_bar() +\n",
    "  facet_wrap(~Pclass + title) +\n",
    "  ggtitle(\"Pclass, Title\") +\n",
    "  xlab(\"cabin.first.char\") +\n",
    "  ylab(\"Total Count\") +\n",
    "  ylim(0,500) +\n",
    "  labs(fill = \"Survived\")"
   ]
  },
  {
   "cell_type": "code",
   "execution_count": 59,
   "metadata": {},
   "outputs": [],
   "source": [
    "# What about folks with multiple cabins?\n",
    "data.combined$cabin.multiple <- as.factor(ifelse(str_detect(data.combined$Cabin, \" \"), \"Y\", \"N\"))"
   ]
  },
  {
   "cell_type": "code",
   "execution_count": 60,
   "metadata": {},
   "outputs": [
    {
     "data": {
      "image/png": "[encoded data removed]",
      "text/plain": [
       "plot without title"
      ]
     },
     "metadata": {
      "image/png": {
       "height": 420,
       "width": 420
      },
      "text/plain": {
       "height": 420,
       "width": 420
      }
     },
     "output_type": "display_data"
    }
   ],
   "source": [
    "ggplot(data.combined[1:891,], aes(x = cabin.multiple, fill = Survived)) +\n",
    "  geom_bar() +\n",
    "  facet_wrap(~Pclass + title) +\n",
    "  ggtitle(\"Pclass, Title\") +\n",
    "  xlab(\"cabin.multiple\") +\n",
    "  ylab(\"Total Count\") +\n",
    "  ylim(0,350) +\n",
    "  labs(fill = \"Survived\")"
   ]
  },
  {
   "cell_type": "code",
   "execution_count": 61,
   "metadata": {},
   "outputs": [
    {
     "name": "stdout",
     "output_type": "stream",
     "text": [
      " Factor w/ 4 levels \"\",\"C\",\"Q\",\"S\": 4 2 4 4 4 3 4 4 4 2 ...\n"
     ]
    },
    {
     "data": {
      "text/html": [
       "<style>\n",
       ".list-inline {list-style: none; margin:0; padding: 0}\n",
       ".list-inline>li {display: inline-block}\n",
       ".list-inline>li:not(:last-child)::after {content: \"\\00b7\"; padding: 0 .5ex}\n",
       "</style>\n",
       "<ol class=list-inline><li>''</li><li>'C'</li><li>'Q'</li><li>'S'</li></ol>\n"
      ],
      "text/latex": [
       "\\begin{enumerate*}\n",
       "\\item ''\n",
       "\\item 'C'\n",
       "\\item 'Q'\n",
       "\\item 'S'\n",
       "\\end{enumerate*}\n"
      ],
      "text/markdown": [
       "1. ''\n",
       "2. 'C'\n",
       "3. 'Q'\n",
       "4. 'S'\n",
       "\n",
       "\n"
      ],
      "text/plain": [
       "[1] \"\"  \"C\" \"Q\" \"S\""
      ]
     },
     "metadata": {},
     "output_type": "display_data"
    }
   ],
   "source": [
    "# Does survivability depend on where you got onboard the Titanic?\n",
    "str(data.combined$Embarked)\n",
    "levels(data.combined$Embarked)"
   ]
  },
  {
   "cell_type": "code",
   "execution_count": 62,
   "metadata": {},
   "outputs": [
    {
     "data": {
      "image/png": "[encoded data removed]",
      "text/plain": [
       "plot without title"
      ]
     },
     "metadata": {
      "image/png": {
       "height": 420,
       "width": 420
      },
      "text/plain": {
       "height": 420,
       "width": 420
      }
     },
     "output_type": "display_data"
    }
   ],
   "source": [
    "# Plot data for analysis\n",
    "ggplot(data.combined[1:891,], aes(x = Embarked, fill = Survived)) +\n",
    "  geom_bar() +\n",
    "  facet_wrap(~Pclass + title) +\n",
    "  ggtitle(\"Pclass, Title\") +\n",
    "  xlab(\"embarked\") +\n",
    "  ylab(\"Total Count\") +\n",
    "  ylim(0,300) +\n",
    "  labs(fill = \"Survived\")"
   ]
  },
  {
   "cell_type": "code",
   "execution_count": null,
   "metadata": {},
   "outputs": [],
   "source": []
  }
 ],
 "metadata": {
  "kernelspec": {
   "display_name": "R",
   "language": "R",
   "name": "ir"
  },
  "language_info": {
   "codemirror_mode": "r",
   "file_extension": ".r",
   "mimetype": "text/x-r-source",
   "name": "R",
   "pygments_lexer": "r",
   "version": "3.6.3"
  }
 },
 "nbformat": 4,
 "nbformat_minor": 4
}
