{
 "cells": [
  {
   "cell_type": "code",
   "execution_count": 1,
   "metadata": {},
   "outputs": [],
   "source": [
    "# Load raw data\n",
    "train <- read.csv(\"train.csv\", header = TRUE)\n",
    "test <- read.csv(\"test.csv\", header = TRUE)"
   ]
  },
  {
   "cell_type": "code",
   "execution_count": 2,
   "metadata": {},
   "outputs": [],
   "source": [
    "# Add a \"Survived\" variable to the test set to allow for combining data sets\n",
    "test.Survived <- data.frame(Survived = rep(\"None\", nrow(test)), test[,])"
   ]
  },
  {
   "cell_type": "code",
   "execution_count": 3,
   "metadata": {},
   "outputs": [],
   "source": [
    "# Combine data sets test.survived, and train\n",
    "data.combined <- rbind(train, test.Survived)"
   ]
  },
  {
   "cell_type": "code",
   "execution_count": 4,
   "metadata": {},
   "outputs": [
    {
     "name": "stdout",
     "output_type": "stream",
     "text": [
      "'data.frame':\t1309 obs. of  12 variables:\n",
      " $ PassengerId: int  1 2 3 4 5 6 7 8 9 10 ...\n",
      " $ Survived   : chr  \"0\" \"1\" \"1\" \"1\" ...\n",
      " $ Pclass     : int  3 1 3 1 3 3 1 3 3 2 ...\n",
      " $ Name       : Factor w/ 1307 levels \"Abbing, Mr. Anthony\",..: 109 191 358 277 16 559 520 629 417 581 ...\n",
      " $ Sex        : Factor w/ 2 levels \"female\",\"male\": 2 1 1 1 2 2 2 2 1 1 ...\n",
      " $ Age        : num  22 38 26 35 35 NA 54 2 27 14 ...\n",
      " $ SibSp      : int  1 1 0 1 0 0 0 3 0 1 ...\n",
      " $ Parch      : int  0 0 0 0 0 0 0 1 2 0 ...\n",
      " $ Ticket     : Factor w/ 929 levels \"110152\",\"110413\",..: 524 597 670 50 473 276 86 396 345 133 ...\n",
      " $ Fare       : num  7.25 71.28 7.92 53.1 8.05 ...\n",
      " $ Cabin      : Factor w/ 187 levels \"\",\"A10\",\"A14\",..: 1 83 1 57 1 1 131 1 1 1 ...\n",
      " $ Embarked   : Factor w/ 4 levels \"\",\"C\",\"Q\",\"S\": 4 2 4 4 4 3 4 4 4 2 ...\n"
     ]
    }
   ],
   "source": [
    "# A bit about R data types (e.g., factors)\n",
    "str(data.combined)"
   ]
  },
  {
   "cell_type": "code",
   "execution_count": 5,
   "metadata": {},
   "outputs": [],
   "source": [
    "data.combined$Survived <- as.factor(data.combined$Survived)\n",
    "data.combined$Pclass <- as.factor(data.combined$Pclass)"
   ]
  },
  {
   "cell_type": "code",
   "execution_count": 6,
   "metadata": {},
   "outputs": [
    {
     "data": {
      "text/plain": [
       "\n",
       "   0    1 None \n",
       " 549  342  418 "
      ]
     },
     "metadata": {},
     "output_type": "display_data"
    }
   ],
   "source": [
    "# Take a look at gross survival rates\n",
    "table(data.combined$Survived)"
   ]
  },
  {
   "cell_type": "code",
   "execution_count": 7,
   "metadata": {},
   "outputs": [
    {
     "data": {
      "text/plain": [
       "\n",
       "  1   2   3 \n",
       "323 277 709 "
      ]
     },
     "metadata": {},
     "output_type": "display_data"
    }
   ],
   "source": [
    "# Distribution across classes\n",
    "table(data.combined$Pclass)"
   ]
  },
  {
   "cell_type": "code",
   "execution_count": 8,
   "metadata": {},
   "outputs": [
    {
     "data": {
      "image/png": "[encoded data removed]",
      "text/plain": [
       "plot without title"
      ]
     },
     "metadata": {
      "image/png": {
       "height": 420,
       "width": 420
      },
      "text/plain": {
       "height": 420,
       "width": 420
      }
     },
     "output_type": "display_data"
    }
   ],
   "source": [
    "# Load up ggplot2 package to use for visualizations\n",
    "library(ggplot2)\n",
    "# Hypothesis - Rich folks Survived at a higer rate\n",
    "train$Pclass <- as.factor(train$Pclass)\n",
    "ggplot(train, aes(x = Pclass, fill = factor(Survived))) +\n",
    "  geom_bar() +\n",
    "  xlab(\"Pclass\") +\n",
    "  ylab(\"Total Count\") +\n",
    "  labs(fill = \"Survived\")"
   ]
  },
  {
   "cell_type": "code",
   "execution_count": 9,
   "metadata": {},
   "outputs": [
    {
     "data": {
      "text/html": [
       "<style>\n",
       ".list-inline {list-style: none; margin:0; padding: 0}\n",
       ".list-inline>li {display: inline-block}\n",
       ".list-inline>li:not(:last-child)::after {content: \"\\00b7\"; padding: 0 .5ex}\n",
       "</style>\n",
       "<ol class=list-inline><li>'Braund, Mr. Owen Harris'</li><li>'Cumings, Mrs. John Bradley (Florence Briggs Thayer)'</li><li>'Heikkinen, Miss. Laina'</li><li>'Futrelle, Mrs. Jacques Heath (Lily May Peel)'</li><li>'Allen, Mr. William Henry'</li><li>'Moran, Mr. James'</li></ol>\n"
      ],
      "text/latex": [
       "\\begin{enumerate*}\n",
       "\\item 'Braund, Mr. Owen Harris'\n",
       "\\item 'Cumings, Mrs. John Bradley (Florence Briggs Thayer)'\n",
       "\\item 'Heikkinen, Miss. Laina'\n",
       "\\item 'Futrelle, Mrs. Jacques Heath (Lily May Peel)'\n",
       "\\item 'Allen, Mr. William Henry'\n",
       "\\item 'Moran, Mr. James'\n",
       "\\end{enumerate*}\n"
      ],
      "text/markdown": [
       "1. 'Braund, Mr. Owen Harris'\n",
       "2. 'Cumings, Mrs. John Bradley (Florence Briggs Thayer)'\n",
       "3. 'Heikkinen, Miss. Laina'\n",
       "4. 'Futrelle, Mrs. Jacques Heath (Lily May Peel)'\n",
       "5. 'Allen, Mr. William Henry'\n",
       "6. 'Moran, Mr. James'\n",
       "\n",
       "\n"
      ],
      "text/plain": [
       "[1] \"Braund, Mr. Owen Harris\"                            \n",
       "[2] \"Cumings, Mrs. John Bradley (Florence Briggs Thayer)\"\n",
       "[3] \"Heikkinen, Miss. Laina\"                             \n",
       "[4] \"Futrelle, Mrs. Jacques Heath (Lily May Peel)\"       \n",
       "[5] \"Allen, Mr. William Henry\"                           \n",
       "[6] \"Moran, Mr. James\"                                   "
      ]
     },
     "metadata": {},
     "output_type": "display_data"
    }
   ],
   "source": [
    "# Examine the first few Names in the training data set\n",
    "head(as.character(train$Name))"
   ]
  },
  {
   "cell_type": "code",
   "execution_count": 11,
   "metadata": {},
   "outputs": [],
   "source": [
    "# Two duplicate Names, take a closer look\n",
    "# First, get the duplicate Names and store them as a vector\n",
    "dup.names <- as.character(data.combined[which(duplicated(as.character(data.combined$Name))), \"Name\"])"
   ]
  },
  {
   "cell_type": "code",
   "execution_count": 12,
   "metadata": {},
   "outputs": [
    {
     "data": {
      "text/html": [
       "<table>\n",
       "<caption>A data.frame: 4 × 12</caption>\n",
       "<thead>\n",
       "\t<tr><th></th><th scope=col>PassengerId</th><th scope=col>Survived</th><th scope=col>Pclass</th><th scope=col>Name</th><th scope=col>Sex</th><th scope=col>Age</th><th scope=col>SibSp</th><th scope=col>Parch</th><th scope=col>Ticket</th><th scope=col>Fare</th><th scope=col>Cabin</th><th scope=col>Embarked</th></tr>\n",
       "\t<tr><th></th><th scope=col>&lt;int&gt;</th><th scope=col>&lt;fct&gt;</th><th scope=col>&lt;fct&gt;</th><th scope=col>&lt;fct&gt;</th><th scope=col>&lt;fct&gt;</th><th scope=col>&lt;dbl&gt;</th><th scope=col>&lt;int&gt;</th><th scope=col>&lt;int&gt;</th><th scope=col>&lt;fct&gt;</th><th scope=col>&lt;dbl&gt;</th><th scope=col>&lt;fct&gt;</th><th scope=col>&lt;fct&gt;</th></tr>\n",
       "</thead>\n",
       "<tbody>\n",
       "\t<tr><th scope=row>290</th><td>290</td><td>1   </td><td>3</td><td>Connolly, Miss. Kate</td><td>female</td><td>22.0</td><td>0</td><td>0</td><td>370373</td><td>7.7500</td><td></td><td>Q</td></tr>\n",
       "\t<tr><th scope=row>697</th><td>697</td><td>0   </td><td>3</td><td>Kelly, Mr. James    </td><td>male  </td><td>44.0</td><td>0</td><td>0</td><td>363592</td><td>8.0500</td><td></td><td>S</td></tr>\n",
       "\t<tr><th scope=row>892</th><td>892</td><td>None</td><td>3</td><td>Kelly, Mr. James    </td><td>male  </td><td>34.5</td><td>0</td><td>0</td><td>330911</td><td>7.8292</td><td></td><td>Q</td></tr>\n",
       "\t<tr><th scope=row>898</th><td>898</td><td>None</td><td>3</td><td>Connolly, Miss. Kate</td><td>female</td><td>30.0</td><td>0</td><td>0</td><td>330972</td><td>7.6292</td><td></td><td>Q</td></tr>\n",
       "</tbody>\n",
       "</table>\n"
      ],
      "text/latex": [
       "A data.frame: 4 × 12\n",
       "\\begin{tabular}{r|llllllllllll}\n",
       "  & PassengerId & Survived & Pclass & Name & Sex & Age & SibSp & Parch & Ticket & Fare & Cabin & Embarked\\\\\n",
       "  & <int> & <fct> & <fct> & <fct> & <fct> & <dbl> & <int> & <int> & <fct> & <dbl> & <fct> & <fct>\\\\\n",
       "\\hline\n",
       "\t290 & 290 & 1    & 3 & Connolly, Miss. Kate & female & 22.0 & 0 & 0 & 370373 & 7.7500 &  & Q\\\\\n",
       "\t697 & 697 & 0    & 3 & Kelly, Mr. James     & male   & 44.0 & 0 & 0 & 363592 & 8.0500 &  & S\\\\\n",
       "\t892 & 892 & None & 3 & Kelly, Mr. James     & male   & 34.5 & 0 & 0 & 330911 & 7.8292 &  & Q\\\\\n",
       "\t898 & 898 & None & 3 & Connolly, Miss. Kate & female & 30.0 & 0 & 0 & 330972 & 7.6292 &  & Q\\\\\n",
       "\\end{tabular}\n"
      ],
      "text/markdown": [
       "\n",
       "A data.frame: 4 × 12\n",
       "\n",
       "| <!--/--> | PassengerId &lt;int&gt; | Survived &lt;fct&gt; | Pclass &lt;fct&gt; | Name &lt;fct&gt; | Sex &lt;fct&gt; | Age &lt;dbl&gt; | SibSp &lt;int&gt; | Parch &lt;int&gt; | Ticket &lt;fct&gt; | Fare &lt;dbl&gt; | Cabin &lt;fct&gt; | Embarked &lt;fct&gt; |\n",
       "|---|---|---|---|---|---|---|---|---|---|---|---|---|\n",
       "| 290 | 290 | 1    | 3 | Connolly, Miss. Kate | female | 22.0 | 0 | 0 | 370373 | 7.7500 | <!----> | Q |\n",
       "| 697 | 697 | 0    | 3 | Kelly, Mr. James     | male   | 44.0 | 0 | 0 | 363592 | 8.0500 | <!----> | S |\n",
       "| 892 | 892 | None | 3 | Kelly, Mr. James     | male   | 34.5 | 0 | 0 | 330911 | 7.8292 | <!----> | Q |\n",
       "| 898 | 898 | None | 3 | Connolly, Miss. Kate | female | 30.0 | 0 | 0 | 330972 | 7.6292 | <!----> | Q |\n",
       "\n"
      ],
      "text/plain": [
       "    PassengerId Survived Pclass Name                 Sex    Age  SibSp Parch\n",
       "290 290         1        3      Connolly, Miss. Kate female 22.0 0     0    \n",
       "697 697         0        3      Kelly, Mr. James     male   44.0 0     0    \n",
       "892 892         None     3      Kelly, Mr. James     male   34.5 0     0    \n",
       "898 898         None     3      Connolly, Miss. Kate female 30.0 0     0    \n",
       "    Ticket Fare   Cabin Embarked\n",
       "290 370373 7.7500       Q       \n",
       "697 363592 8.0500       S       \n",
       "892 330911 7.8292       Q       \n",
       "898 330972 7.6292       Q       "
      ]
     },
     "metadata": {},
     "output_type": "display_data"
    }
   ],
   "source": [
    "# Next, take a look at the records in the combined data set\n",
    "data.combined[which(data.combined$Name %in% dup.names),]"
   ]
  },
  {
   "cell_type": "code",
   "execution_count": 13,
   "metadata": {},
   "outputs": [],
   "source": [
    "# What is up with the 'Miss.' and 'Mr.' thing?\n",
    "library(stringr)"
   ]
  },
  {
   "cell_type": "code",
   "execution_count": 14,
   "metadata": {},
   "outputs": [
    {
     "data": {
      "text/html": [
       "<table>\n",
       "<caption>A data.frame: 5 × 12</caption>\n",
       "<thead>\n",
       "\t<tr><th></th><th scope=col>PassengerId</th><th scope=col>Survived</th><th scope=col>Pclass</th><th scope=col>Name</th><th scope=col>Sex</th><th scope=col>Age</th><th scope=col>SibSp</th><th scope=col>Parch</th><th scope=col>Ticket</th><th scope=col>Fare</th><th scope=col>Cabin</th><th scope=col>Embarked</th></tr>\n",
       "\t<tr><th></th><th scope=col>&lt;int&gt;</th><th scope=col>&lt;fct&gt;</th><th scope=col>&lt;fct&gt;</th><th scope=col>&lt;fct&gt;</th><th scope=col>&lt;fct&gt;</th><th scope=col>&lt;dbl&gt;</th><th scope=col>&lt;int&gt;</th><th scope=col>&lt;int&gt;</th><th scope=col>&lt;fct&gt;</th><th scope=col>&lt;dbl&gt;</th><th scope=col>&lt;fct&gt;</th><th scope=col>&lt;fct&gt;</th></tr>\n",
       "</thead>\n",
       "<tbody>\n",
       "\t<tr><th scope=row>3</th><td> 3</td><td>1</td><td>3</td><td>Heikkinen, Miss. Laina              </td><td>female</td><td>26</td><td>0</td><td>0</td><td>STON/O2. 3101282</td><td> 7.9250</td><td>    </td><td>S</td></tr>\n",
       "\t<tr><th scope=row>11</th><td>11</td><td>1</td><td>3</td><td>Sandstrom, Miss. Marguerite Rut     </td><td>female</td><td> 4</td><td>1</td><td>1</td><td>PP 9549         </td><td>16.7000</td><td>G6  </td><td>S</td></tr>\n",
       "\t<tr><th scope=row>12</th><td>12</td><td>1</td><td>1</td><td>Bonnell, Miss. Elizabeth            </td><td>female</td><td>58</td><td>0</td><td>0</td><td>113783          </td><td>26.5500</td><td>C103</td><td>S</td></tr>\n",
       "\t<tr><th scope=row>15</th><td>15</td><td>0</td><td>3</td><td>Vestrom, Miss. Hulda Amanda Adolfina</td><td>female</td><td>14</td><td>0</td><td>0</td><td>350406          </td><td> 7.8542</td><td>    </td><td>S</td></tr>\n",
       "\t<tr><th scope=row>23</th><td>23</td><td>1</td><td>3</td><td>McGowan, Miss. Anna \"Annie\"         </td><td>female</td><td>15</td><td>0</td><td>0</td><td>330923          </td><td> 8.0292</td><td>    </td><td>Q</td></tr>\n",
       "</tbody>\n",
       "</table>\n"
      ],
      "text/latex": [
       "A data.frame: 5 × 12\n",
       "\\begin{tabular}{r|llllllllllll}\n",
       "  & PassengerId & Survived & Pclass & Name & Sex & Age & SibSp & Parch & Ticket & Fare & Cabin & Embarked\\\\\n",
       "  & <int> & <fct> & <fct> & <fct> & <fct> & <dbl> & <int> & <int> & <fct> & <dbl> & <fct> & <fct>\\\\\n",
       "\\hline\n",
       "\t3 &  3 & 1 & 3 & Heikkinen, Miss. Laina               & female & 26 & 0 & 0 & STON/O2. 3101282 &  7.9250 &      & S\\\\\n",
       "\t11 & 11 & 1 & 3 & Sandstrom, Miss. Marguerite Rut      & female &  4 & 1 & 1 & PP 9549          & 16.7000 & G6   & S\\\\\n",
       "\t12 & 12 & 1 & 1 & Bonnell, Miss. Elizabeth             & female & 58 & 0 & 0 & 113783           & 26.5500 & C103 & S\\\\\n",
       "\t15 & 15 & 0 & 3 & Vestrom, Miss. Hulda Amanda Adolfina & female & 14 & 0 & 0 & 350406           &  7.8542 &      & S\\\\\n",
       "\t23 & 23 & 1 & 3 & McGowan, Miss. Anna \"Annie\"          & female & 15 & 0 & 0 & 330923           &  8.0292 &      & Q\\\\\n",
       "\\end{tabular}\n"
      ],
      "text/markdown": [
       "\n",
       "A data.frame: 5 × 12\n",
       "\n",
       "| <!--/--> | PassengerId &lt;int&gt; | Survived &lt;fct&gt; | Pclass &lt;fct&gt; | Name &lt;fct&gt; | Sex &lt;fct&gt; | Age &lt;dbl&gt; | SibSp &lt;int&gt; | Parch &lt;int&gt; | Ticket &lt;fct&gt; | Fare &lt;dbl&gt; | Cabin &lt;fct&gt; | Embarked &lt;fct&gt; |\n",
       "|---|---|---|---|---|---|---|---|---|---|---|---|---|\n",
       "| 3 |  3 | 1 | 3 | Heikkinen, Miss. Laina               | female | 26 | 0 | 0 | STON/O2. 3101282 |  7.9250 | <!----> | S |\n",
       "| 11 | 11 | 1 | 3 | Sandstrom, Miss. Marguerite Rut      | female |  4 | 1 | 1 | PP 9549          | 16.7000 | G6   | S |\n",
       "| 12 | 12 | 1 | 1 | Bonnell, Miss. Elizabeth             | female | 58 | 0 | 0 | 113783           | 26.5500 | C103 | S |\n",
       "| 15 | 15 | 0 | 3 | Vestrom, Miss. Hulda Amanda Adolfina | female | 14 | 0 | 0 | 350406           |  7.8542 | <!----> | S |\n",
       "| 23 | 23 | 1 | 3 | McGowan, Miss. Anna \"Annie\"          | female | 15 | 0 | 0 | 330923           |  8.0292 | <!----> | Q |\n",
       "\n"
      ],
      "text/plain": [
       "   PassengerId Survived Pclass Name                                 Sex    Age\n",
       "3   3          1        3      Heikkinen, Miss. Laina               female 26 \n",
       "11 11          1        3      Sandstrom, Miss. Marguerite Rut      female  4 \n",
       "12 12          1        1      Bonnell, Miss. Elizabeth             female 58 \n",
       "15 15          0        3      Vestrom, Miss. Hulda Amanda Adolfina female 14 \n",
       "23 23          1        3      McGowan, Miss. Anna \"Annie\"          female 15 \n",
       "   SibSp Parch Ticket           Fare    Cabin Embarked\n",
       "3  0     0     STON/O2. 3101282  7.9250       S       \n",
       "11 1     1     PP 9549          16.7000 G6    S       \n",
       "12 0     0     113783           26.5500 C103  S       \n",
       "15 0     0     350406            7.8542       S       \n",
       "23 0     0     330923            8.0292       Q       "
      ]
     },
     "metadata": {},
     "output_type": "display_data"
    }
   ],
   "source": [
    "# Any correlation with other variables (e.g., sibsp)?\n",
    "misses <- data.combined[which(str_detect(data.combined$Name, \"Miss.\")),]\n",
    "misses[1:5,]"
   ]
  },
  {
   "cell_type": "code",
   "execution_count": 15,
   "metadata": {},
   "outputs": [
    {
     "data": {
      "text/html": [
       "<table>\n",
       "<caption>A data.frame: 5 × 12</caption>\n",
       "<thead>\n",
       "\t<tr><th></th><th scope=col>PassengerId</th><th scope=col>Survived</th><th scope=col>Pclass</th><th scope=col>Name</th><th scope=col>Sex</th><th scope=col>Age</th><th scope=col>SibSp</th><th scope=col>Parch</th><th scope=col>Ticket</th><th scope=col>Fare</th><th scope=col>Cabin</th><th scope=col>Embarked</th></tr>\n",
       "\t<tr><th></th><th scope=col>&lt;int&gt;</th><th scope=col>&lt;fct&gt;</th><th scope=col>&lt;fct&gt;</th><th scope=col>&lt;fct&gt;</th><th scope=col>&lt;fct&gt;</th><th scope=col>&lt;dbl&gt;</th><th scope=col>&lt;int&gt;</th><th scope=col>&lt;int&gt;</th><th scope=col>&lt;fct&gt;</th><th scope=col>&lt;dbl&gt;</th><th scope=col>&lt;fct&gt;</th><th scope=col>&lt;fct&gt;</th></tr>\n",
       "</thead>\n",
       "<tbody>\n",
       "\t<tr><th scope=row>2</th><td> 2</td><td>1</td><td>1</td><td>Cumings, Mrs. John Bradley (Florence Briggs Thayer)</td><td>female</td><td>38</td><td>1</td><td>0</td><td>PC 17599</td><td>71.2833</td><td>C85 </td><td>C</td></tr>\n",
       "\t<tr><th scope=row>4</th><td> 4</td><td>1</td><td>1</td><td>Futrelle, Mrs. Jacques Heath (Lily May Peel)       </td><td>female</td><td>35</td><td>1</td><td>0</td><td>113803  </td><td>53.1000</td><td>C123</td><td>S</td></tr>\n",
       "\t<tr><th scope=row>9</th><td> 9</td><td>1</td><td>3</td><td>Johnson, Mrs. Oscar W (Elisabeth Vilhelmina Berg)  </td><td>female</td><td>27</td><td>0</td><td>2</td><td>347742  </td><td>11.1333</td><td>    </td><td>S</td></tr>\n",
       "\t<tr><th scope=row>10</th><td>10</td><td>1</td><td>2</td><td>Nasser, Mrs. Nicholas (Adele Achem)                </td><td>female</td><td>14</td><td>1</td><td>0</td><td>237736  </td><td>30.0708</td><td>    </td><td>C</td></tr>\n",
       "\t<tr><th scope=row>16</th><td>16</td><td>1</td><td>2</td><td>Hewlett, Mrs. (Mary D Kingcome)                    </td><td>female</td><td>55</td><td>0</td><td>0</td><td>248706  </td><td>16.0000</td><td>    </td><td>S</td></tr>\n",
       "</tbody>\n",
       "</table>\n"
      ],
      "text/latex": [
       "A data.frame: 5 × 12\n",
       "\\begin{tabular}{r|llllllllllll}\n",
       "  & PassengerId & Survived & Pclass & Name & Sex & Age & SibSp & Parch & Ticket & Fare & Cabin & Embarked\\\\\n",
       "  & <int> & <fct> & <fct> & <fct> & <fct> & <dbl> & <int> & <int> & <fct> & <dbl> & <fct> & <fct>\\\\\n",
       "\\hline\n",
       "\t2 &  2 & 1 & 1 & Cumings, Mrs. John Bradley (Florence Briggs Thayer) & female & 38 & 1 & 0 & PC 17599 & 71.2833 & C85  & C\\\\\n",
       "\t4 &  4 & 1 & 1 & Futrelle, Mrs. Jacques Heath (Lily May Peel)        & female & 35 & 1 & 0 & 113803   & 53.1000 & C123 & S\\\\\n",
       "\t9 &  9 & 1 & 3 & Johnson, Mrs. Oscar W (Elisabeth Vilhelmina Berg)   & female & 27 & 0 & 2 & 347742   & 11.1333 &      & S\\\\\n",
       "\t10 & 10 & 1 & 2 & Nasser, Mrs. Nicholas (Adele Achem)                 & female & 14 & 1 & 0 & 237736   & 30.0708 &      & C\\\\\n",
       "\t16 & 16 & 1 & 2 & Hewlett, Mrs. (Mary D Kingcome)                     & female & 55 & 0 & 0 & 248706   & 16.0000 &      & S\\\\\n",
       "\\end{tabular}\n"
      ],
      "text/markdown": [
       "\n",
       "A data.frame: 5 × 12\n",
       "\n",
       "| <!--/--> | PassengerId &lt;int&gt; | Survived &lt;fct&gt; | Pclass &lt;fct&gt; | Name &lt;fct&gt; | Sex &lt;fct&gt; | Age &lt;dbl&gt; | SibSp &lt;int&gt; | Parch &lt;int&gt; | Ticket &lt;fct&gt; | Fare &lt;dbl&gt; | Cabin &lt;fct&gt; | Embarked &lt;fct&gt; |\n",
       "|---|---|---|---|---|---|---|---|---|---|---|---|---|\n",
       "| 2 |  2 | 1 | 1 | Cumings, Mrs. John Bradley (Florence Briggs Thayer) | female | 38 | 1 | 0 | PC 17599 | 71.2833 | C85  | C |\n",
       "| 4 |  4 | 1 | 1 | Futrelle, Mrs. Jacques Heath (Lily May Peel)        | female | 35 | 1 | 0 | 113803   | 53.1000 | C123 | S |\n",
       "| 9 |  9 | 1 | 3 | Johnson, Mrs. Oscar W (Elisabeth Vilhelmina Berg)   | female | 27 | 0 | 2 | 347742   | 11.1333 | <!----> | S |\n",
       "| 10 | 10 | 1 | 2 | Nasser, Mrs. Nicholas (Adele Achem)                 | female | 14 | 1 | 0 | 237736   | 30.0708 | <!----> | C |\n",
       "| 16 | 16 | 1 | 2 | Hewlett, Mrs. (Mary D Kingcome)                     | female | 55 | 0 | 0 | 248706   | 16.0000 | <!----> | S |\n",
       "\n"
      ],
      "text/plain": [
       "   PassengerId Survived Pclass\n",
       "2   2          1        1     \n",
       "4   4          1        1     \n",
       "9   9          1        3     \n",
       "10 10          1        2     \n",
       "16 16          1        2     \n",
       "   Name                                                Sex    Age SibSp Parch\n",
       "2  Cumings, Mrs. John Bradley (Florence Briggs Thayer) female 38  1     0    \n",
       "4  Futrelle, Mrs. Jacques Heath (Lily May Peel)        female 35  1     0    \n",
       "9  Johnson, Mrs. Oscar W (Elisabeth Vilhelmina Berg)   female 27  0     2    \n",
       "10 Nasser, Mrs. Nicholas (Adele Achem)                 female 14  1     0    \n",
       "16 Hewlett, Mrs. (Mary D Kingcome)                     female 55  0     0    \n",
       "   Ticket   Fare    Cabin Embarked\n",
       "2  PC 17599 71.2833 C85   C       \n",
       "4  113803   53.1000 C123  S       \n",
       "9  347742   11.1333       S       \n",
       "10 237736   30.0708       C       \n",
       "16 248706   16.0000       S       "
      ]
     },
     "metadata": {},
     "output_type": "display_data"
    }
   ],
   "source": [
    "# Hypothesis - Name titles correlate with age\n",
    "mrses <- data.combined[which(str_detect(data.combined$Name, \"Mrs.\")), ]\n",
    "mrses[1:5,]"
   ]
  },
  {
   "cell_type": "code",
   "execution_count": 16,
   "metadata": {},
   "outputs": [
    {
     "data": {
      "text/html": [
       "<table>\n",
       "<caption>A data.frame: 5 × 12</caption>\n",
       "<thead>\n",
       "\t<tr><th></th><th scope=col>PassengerId</th><th scope=col>Survived</th><th scope=col>Pclass</th><th scope=col>Name</th><th scope=col>Sex</th><th scope=col>Age</th><th scope=col>SibSp</th><th scope=col>Parch</th><th scope=col>Ticket</th><th scope=col>Fare</th><th scope=col>Cabin</th><th scope=col>Embarked</th></tr>\n",
       "\t<tr><th></th><th scope=col>&lt;int&gt;</th><th scope=col>&lt;fct&gt;</th><th scope=col>&lt;fct&gt;</th><th scope=col>&lt;fct&gt;</th><th scope=col>&lt;fct&gt;</th><th scope=col>&lt;dbl&gt;</th><th scope=col>&lt;int&gt;</th><th scope=col>&lt;int&gt;</th><th scope=col>&lt;fct&gt;</th><th scope=col>&lt;dbl&gt;</th><th scope=col>&lt;fct&gt;</th><th scope=col>&lt;fct&gt;</th></tr>\n",
       "</thead>\n",
       "<tbody>\n",
       "\t<tr><th scope=row>1</th><td>1</td><td>0</td><td>3</td><td>Braund, Mr. Owen Harris       </td><td>male</td><td>22</td><td>1</td><td>0</td><td>A/5 21171</td><td> 7.2500</td><td>   </td><td>S</td></tr>\n",
       "\t<tr><th scope=row>5</th><td>5</td><td>0</td><td>3</td><td>Allen, Mr. William Henry      </td><td>male</td><td>35</td><td>0</td><td>0</td><td>373450   </td><td> 8.0500</td><td>   </td><td>S</td></tr>\n",
       "\t<tr><th scope=row>6</th><td>6</td><td>0</td><td>3</td><td>Moran, Mr. James              </td><td>male</td><td>NA</td><td>0</td><td>0</td><td>330877   </td><td> 8.4583</td><td>   </td><td>Q</td></tr>\n",
       "\t<tr><th scope=row>7</th><td>7</td><td>0</td><td>1</td><td>McCarthy, Mr. Timothy J       </td><td>male</td><td>54</td><td>0</td><td>0</td><td>17463    </td><td>51.8625</td><td>E46</td><td>S</td></tr>\n",
       "\t<tr><th scope=row>8</th><td>8</td><td>0</td><td>3</td><td>Palsson, Master. Gosta Leonard</td><td>male</td><td> 2</td><td>3</td><td>1</td><td>349909   </td><td>21.0750</td><td>   </td><td>S</td></tr>\n",
       "</tbody>\n",
       "</table>\n"
      ],
      "text/latex": [
       "A data.frame: 5 × 12\n",
       "\\begin{tabular}{r|llllllllllll}\n",
       "  & PassengerId & Survived & Pclass & Name & Sex & Age & SibSp & Parch & Ticket & Fare & Cabin & Embarked\\\\\n",
       "  & <int> & <fct> & <fct> & <fct> & <fct> & <dbl> & <int> & <int> & <fct> & <dbl> & <fct> & <fct>\\\\\n",
       "\\hline\n",
       "\t1 & 1 & 0 & 3 & Braund, Mr. Owen Harris        & male & 22 & 1 & 0 & A/5 21171 &  7.2500 &     & S\\\\\n",
       "\t5 & 5 & 0 & 3 & Allen, Mr. William Henry       & male & 35 & 0 & 0 & 373450    &  8.0500 &     & S\\\\\n",
       "\t6 & 6 & 0 & 3 & Moran, Mr. James               & male & NA & 0 & 0 & 330877    &  8.4583 &     & Q\\\\\n",
       "\t7 & 7 & 0 & 1 & McCarthy, Mr. Timothy J        & male & 54 & 0 & 0 & 17463     & 51.8625 & E46 & S\\\\\n",
       "\t8 & 8 & 0 & 3 & Palsson, Master. Gosta Leonard & male &  2 & 3 & 1 & 349909    & 21.0750 &     & S\\\\\n",
       "\\end{tabular}\n"
      ],
      "text/markdown": [
       "\n",
       "A data.frame: 5 × 12\n",
       "\n",
       "| <!--/--> | PassengerId &lt;int&gt; | Survived &lt;fct&gt; | Pclass &lt;fct&gt; | Name &lt;fct&gt; | Sex &lt;fct&gt; | Age &lt;dbl&gt; | SibSp &lt;int&gt; | Parch &lt;int&gt; | Ticket &lt;fct&gt; | Fare &lt;dbl&gt; | Cabin &lt;fct&gt; | Embarked &lt;fct&gt; |\n",
       "|---|---|---|---|---|---|---|---|---|---|---|---|---|\n",
       "| 1 | 1 | 0 | 3 | Braund, Mr. Owen Harris        | male | 22 | 1 | 0 | A/5 21171 |  7.2500 | <!----> | S |\n",
       "| 5 | 5 | 0 | 3 | Allen, Mr. William Henry       | male | 35 | 0 | 0 | 373450    |  8.0500 | <!----> | S |\n",
       "| 6 | 6 | 0 | 3 | Moran, Mr. James               | male | NA | 0 | 0 | 330877    |  8.4583 | <!----> | Q |\n",
       "| 7 | 7 | 0 | 1 | McCarthy, Mr. Timothy J        | male | 54 | 0 | 0 | 17463     | 51.8625 | E46 | S |\n",
       "| 8 | 8 | 0 | 3 | Palsson, Master. Gosta Leonard | male |  2 | 3 | 1 | 349909    | 21.0750 | <!----> | S |\n",
       "\n"
      ],
      "text/plain": [
       "  PassengerId Survived Pclass Name                           Sex  Age SibSp\n",
       "1 1           0        3      Braund, Mr. Owen Harris        male 22  1    \n",
       "5 5           0        3      Allen, Mr. William Henry       male 35  0    \n",
       "6 6           0        3      Moran, Mr. James               male NA  0    \n",
       "7 7           0        1      McCarthy, Mr. Timothy J        male 54  0    \n",
       "8 8           0        3      Palsson, Master. Gosta Leonard male  2  3    \n",
       "  Parch Ticket    Fare    Cabin Embarked\n",
       "1 0     A/5 21171  7.2500       S       \n",
       "5 0     373450     8.0500       S       \n",
       "6 0     330877     8.4583       Q       \n",
       "7 0     17463     51.8625 E46   S       \n",
       "8 1     349909    21.0750       S       "
      ]
     },
     "metadata": {},
     "output_type": "display_data"
    }
   ],
   "source": [
    "# Check out males to see if pattern continues\n",
    "males <- data.combined[which(data.combined$Sex == \"male\"), ]\n",
    "males[1:5,]"
   ]
  },
  {
   "cell_type": "code",
   "execution_count": 17,
   "metadata": {},
   "outputs": [],
   "source": [
    "# Expand upon the realtionship between `Survived` and `Pclass` by adding the new `Title` variable to the\n",
    "# data set and then explore a potential 3-dimensional relationship.\n",
    "\n",
    "# Create a utility function to help with title extraction\n",
    "extractTitle <- function(Name) {\n",
    "  Name <- as.character(Name)\n",
    "\n",
    "    if (length(grep(\"Miss.\", Name)) > 0) {\n",
    "    return (\"Miss.\")\n",
    "  } else if (length(grep(\"Master.\", Name)) > 0) {\n",
    "    return (\"Master.\")\n",
    "  } else if (length(grep(\"Mrs.\", Name)) > 0) {\n",
    "    return (\"Mrs.\")\n",
    "  } else if (length(grep(\"Mr.\", Name)) > 0) {\n",
    "    return (\"Mr.\")\n",
    "  } else {\n",
    "    return (\"Other\")\n",
    "  }\n",
    "}\n",
    "\n",
    "titles <- NULL\n",
    "for (i in 1:nrow(data.combined)) {\n",
    "  titles <- c(titles, extractTitle(data.combined[i,\"Name\"]))\n",
    "}\n",
    "data.combined$title <- as.factor(titles)\n"
   ]
  },
  {
   "cell_type": "code",
   "execution_count": 18,
   "metadata": {},
   "outputs": [
    {
     "data": {
      "image/png": "[encoded data removed]",
      "text/plain": [
       "plot without title"
      ]
     },
     "metadata": {
      "image/png": {
       "height": 420,
       "width": 420
      },
      "text/plain": {
       "height": 420,
       "width": 420
      }
     },
     "output_type": "display_data"
    }
   ],
   "source": [
    "# Since we only have Survived lables for the train set, only use the\n",
    "# first 891 rows\n",
    "ggplot(data.combined[1:891,], aes(x = title, fill = Survived)) +\n",
    "  geom_bar() +\n",
    "  facet_wrap(~Pclass) + \n",
    "  ggtitle(\"Pclass\") +\n",
    "  xlab(\"Title\") +\n",
    "  ylab(\"Total Count\") +\n",
    "  labs(fill = \"Survived\")"
   ]
  },
  {
   "cell_type": "code",
   "execution_count": 19,
   "metadata": {},
   "outputs": [
    {
     "data": {
      "text/plain": [
       "\n",
       "female   male \n",
       "   466    843 "
      ]
     },
     "metadata": {},
     "output_type": "display_data"
    }
   ],
   "source": [
    "# What's the distribution of females to males across train & test?\n",
    "table(data.combined$Sex)"
   ]
  },
  {
   "cell_type": "code",
   "execution_count": 20,
   "metadata": {},
   "outputs": [
    {
     "data": {
      "image/png": "[encoded data removed]",
      "text/plain": [
       "plot without title"
      ]
     },
     "metadata": {
      "image/png": {
       "height": 420,
       "width": 420
      },
      "text/plain": {
       "height": 420,
       "width": 420
      }
     },
     "output_type": "display_data"
    }
   ],
   "source": [
    "# Visualize the 3-way relationship of Sex, Pclass, and survival, compare to analysis of title\n",
    "ggplot(data.combined[1:891,], aes(x = Sex, fill = Survived)) +\n",
    "  geom_bar() +\n",
    "  facet_wrap(~Pclass) + \n",
    "  ggtitle(\"Pclass\") +\n",
    "  xlab(\"Sex\") +\n",
    "  ylab(\"Total Count\") +\n",
    "  labs(fill = \"Survived\")"
   ]
  },
  {
   "cell_type": "code",
   "execution_count": 21,
   "metadata": {},
   "outputs": [
    {
     "data": {
      "text/plain": [
       "   Min. 1st Qu.  Median    Mean 3rd Qu.    Max.    NA's \n",
       "   0.17   21.00   28.00   29.88   39.00   80.00     263 "
      ]
     },
     "metadata": {},
     "output_type": "display_data"
    },
    {
     "data": {
      "text/plain": [
       "   Min. 1st Qu.  Median    Mean 3rd Qu.    Max.    NA's \n",
       "   0.42   20.12   28.00   29.70   38.00   80.00     177 "
      ]
     },
     "metadata": {},
     "output_type": "display_data"
    }
   ],
   "source": [
    "# OK, age and sex seem pretty important as derived from analysis of title, let's take a closer \n",
    "# look at the distibutions of age over entire data set\n",
    "summary(data.combined$Age)\n",
    "summary(data.combined[1:891,\"Age\"])"
   ]
  },
  {
   "cell_type": "code",
   "execution_count": 22,
   "metadata": {},
   "outputs": [
    {
     "name": "stderr",
     "output_type": "stream",
     "text": [
      "Warning message:\n",
      "\"Removed 177 rows containing non-finite values (stat_bin).\"\n"
     ]
    },
    {
     "data": {
      "image/png": "[encoded data removed]",
      "text/plain": [
       "plot without title"
      ]
     },
     "metadata": {
      "image/png": {
       "height": 420,
       "width": 420
      },
      "text/plain": {
       "height": 420,
       "width": 420
      }
     },
     "output_type": "display_data"
    }
   ],
   "source": [
    "# Just to be thorough, take a look at survival rates broken out by sex, pclass, and age\n",
    "ggplot(data.combined[1:891,], aes(x = Age, fill = Survived)) +\n",
    "  facet_wrap(~Sex + Pclass) +\n",
    "  geom_histogram(binwidth = 10) +\n",
    "  xlab(\"Age\") +\n",
    "  ylab(\"Total Count\")"
   ]
  },
  {
   "cell_type": "code",
   "execution_count": 23,
   "metadata": {},
   "outputs": [
    {
     "data": {
      "text/plain": [
       "   Min. 1st Qu.  Median    Mean 3rd Qu.    Max.    NA's \n",
       "  0.330   2.000   4.000   5.483   9.000  14.500       8 "
      ]
     },
     "metadata": {},
     "output_type": "display_data"
    }
   ],
   "source": [
    "# Validate that \"Master.\" is a good proxy for male children\n",
    "boys <- data.combined[which(data.combined$title == \"Master.\"),]\n",
    "summary(boys$Age)"
   ]
  },
  {
   "cell_type": "code",
   "execution_count": 24,
   "metadata": {},
   "outputs": [
    {
     "data": {
      "text/plain": [
       "   Min. 1st Qu.  Median    Mean 3rd Qu.    Max.    NA's \n",
       "   0.17   15.00   22.00   21.77   30.00   63.00      50 "
      ]
     },
     "metadata": {},
     "output_type": "display_data"
    }
   ],
   "source": [
    "# We know that \"Miss.\" is more complicated, let's examine further\n",
    "misses <- data.combined[which(data.combined$title == \"Miss.\"),]\n",
    "summary(misses$Age)"
   ]
  },
  {
   "cell_type": "code",
   "execution_count": 25,
   "metadata": {},
   "outputs": [
    {
     "name": "stderr",
     "output_type": "stream",
     "text": [
      "Warning message:\n",
      "\"Removed 36 rows containing non-finite values (stat_bin).\"\n"
     ]
    },
    {
     "data": {
      "image/png": "[encoded data removed]",
      "text/plain": [
       "plot without title"
      ]
     },
     "metadata": {
      "image/png": {
       "height": 420,
       "width": 420
      },
      "text/plain": {
       "height": 420,
       "width": 420
      }
     },
     "output_type": "display_data"
    }
   ],
   "source": [
    "ggplot(misses[misses$Survived != \"None\",], aes(x = Age, fill = Survived)) +\n",
    "  facet_wrap(~Pclass) +\n",
    "  geom_histogram(binwidth = 5) +\n",
    "  ggtitle(\"Age for 'Miss.' by Pclass\") + \n",
    "  xlab(\"Age\") +\n",
    "  ylab(\"Total Count\")"
   ]
  },
  {
   "cell_type": "code",
   "execution_count": 26,
   "metadata": {},
   "outputs": [
    {
     "data": {
      "text/plain": [
       "   Min. 1st Qu.  Median    Mean 3rd Qu.    Max.    NA's \n",
       "   5.00   21.00   26.00   27.23   32.50   58.00      33 "
      ]
     },
     "metadata": {},
     "output_type": "display_data"
    },
    {
     "data": {
      "text/html": [
       "4"
      ],
      "text/latex": [
       "4"
      ],
      "text/markdown": [
       "4"
      ],
      "text/plain": [
       "[1] 4"
      ]
     },
     "metadata": {},
     "output_type": "display_data"
    }
   ],
   "source": [
    "# OK, appears female children may have different survival rate, \n",
    "# could be a candidate for feature engineering later\n",
    "misses.alone <- misses[which(misses$SibSp == 0 & misses$Parch == 0),]\n",
    "summary(misses.alone$Age)\n",
    "length(which(misses.alone$Age <= 14.5))"
   ]
  },
  {
   "cell_type": "code",
   "execution_count": 27,
   "metadata": {},
   "outputs": [
    {
     "data": {
      "text/plain": [
       "   Min. 1st Qu.  Median    Mean 3rd Qu.    Max. \n",
       " 0.0000  0.0000  0.0000  0.4989  1.0000  8.0000 "
      ]
     },
     "metadata": {},
     "output_type": "display_data"
    }
   ],
   "source": [
    "# Move on to the sibsp variable, summarize the variable\n",
    "summary(data.combined$SibSp)"
   ]
  },
  {
   "cell_type": "code",
   "execution_count": 28,
   "metadata": {},
   "outputs": [
    {
     "data": {
      "text/html": [
       "7"
      ],
      "text/latex": [
       "7"
      ],
      "text/markdown": [
       "7"
      ],
      "text/plain": [
       "[1] 7"
      ]
     },
     "metadata": {},
     "output_type": "display_data"
    }
   ],
   "source": [
    "# Can we treat as a factor?\n",
    "length(unique(data.combined$SibSp))"
   ]
  },
  {
   "cell_type": "code",
   "execution_count": 29,
   "metadata": {},
   "outputs": [],
   "source": [
    "data.combined$SibSp <- as.factor(data.combined$SibSp)"
   ]
  },
  {
   "cell_type": "code",
   "execution_count": 30,
   "metadata": {},
   "outputs": [
    {
     "data": {
      "image/png": "[encoded data removed]",
      "text/plain": [
       "plot without title"
      ]
     },
     "metadata": {
      "image/png": {
       "height": 420,
       "width": 420
      },
      "text/plain": {
       "height": 420,
       "width": 420
      }
     },
     "output_type": "display_data"
    }
   ],
   "source": [
    "# We believe title is predictive. Visualize survival reates by sibsp, pclass, and title\n",
    "ggplot(data.combined[1:891,], aes(x = SibSp, fill = Survived)) +\n",
    "  geom_bar() +\n",
    "  facet_wrap(~Pclass + title) + \n",
    "  ggtitle(\"Pclass, Title\") +\n",
    "  xlab(\"SibSp\") +\n",
    "  ylab(\"Total Count\") +\n",
    "  ylim(0,300) +\n",
    "  labs(fill = \"Survived\")"
   ]
  },
  {
   "cell_type": "code",
   "execution_count": 31,
   "metadata": {},
   "outputs": [
    {
     "data": {
      "image/png": "[encoded data removed]",
      "text/plain": [
       "plot without title"
      ]
     },
     "metadata": {
      "image/png": {
       "height": 420,
       "width": 420
      },
      "text/plain": {
       "height": 420,
       "width": 420
      }
     },
     "output_type": "display_data"
    }
   ],
   "source": [
    "# Treat the parch vaiable as a factor and visualize\n",
    "data.combined$Parch <- as.factor(data.combined$Parch)\n",
    "ggplot(data.combined[1:891,], aes(x = Parch, fill = Survived)) +\n",
    "  geom_bar() +\n",
    "  facet_wrap(~Pclass + title) + \n",
    "  ggtitle(\"Pclass, Title\") +\n",
    "  xlab(\"ParCh\") +\n",
    "  ylab(\"Total Count\") +\n",
    "  ylim(0,300) +\n",
    "  labs(fill = \"Survived\")"
   ]
  },
  {
   "cell_type": "code",
   "execution_count": 32,
   "metadata": {},
   "outputs": [],
   "source": [
    "# Let's try some feature engineering. What about creating a family size feature?\n",
    "temp.SibSp <- c(train$SibSp, test$SibSp)\n",
    "temp.Parch <- c(train$Parch, test$Parch)\n",
    "data.combined$family.size <- as.factor(temp.SibSp + temp.Parch + 1)"
   ]
  },
  {
   "cell_type": "code",
   "execution_count": 33,
   "metadata": {},
   "outputs": [
    {
     "data": {
      "image/png": "[encoded data removed]",
      "text/plain": [
       "plot without title"
      ]
     },
     "metadata": {
      "image/png": {
       "height": 420,
       "width": 420
      },
      "text/plain": {
       "height": 420,
       "width": 420
      }
     },
     "output_type": "display_data"
    }
   ],
   "source": [
    "# Visualize it to see if it is predictive\n",
    "ggplot(data.combined[1:891,], aes(x = family.size, fill = Survived)) +\n",
    "  geom_bar() +\n",
    "  facet_wrap(~Pclass + title) + \n",
    "  ggtitle(\"Pclass, Title\") +\n",
    "  xlab(\"family.size\") +\n",
    "  ylab(\"Total Count\") +\n",
    "  ylim(0,300) +\n",
    "  labs(fill = \"Survived\")"
   ]
  },
  {
   "cell_type": "code",
   "execution_count": null,
   "metadata": {},
   "outputs": [],
   "source": []
  }
 ],
 "metadata": {
  "kernelspec": {
   "display_name": "R",
   "language": "R",
   "name": "ir"
  },
  "language_info": {
   "codemirror_mode": "r",
   "file_extension": ".r",
   "mimetype": "text/x-r-source",
   "name": "R",
   "pygments_lexer": "r",
   "version": "3.6.3"
  }
 },
 "nbformat": 4,
 "nbformat_minor": 4
}
